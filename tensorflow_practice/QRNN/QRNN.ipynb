{
 "cells": [
  {
   "cell_type": "code",
   "execution_count": null,
   "metadata": {
    "collapsed": true
   },
   "outputs": [],
   "source": []
  },
  {
   "cell_type": "markdown",
   "metadata": {
    "collapsed": true
   },
   "source": [
    "# QUASI-RECURRENT NEURAL NETWORKS\n",
    "- https://arxiv.org/abs/1611.01576"
   ]
  },
  {
   "cell_type": "markdown",
   "metadata": {},
   "source": [
    "## 1. Introduction"
   ]
  },
  {
   "cell_type": "markdown",
   "metadata": {},
   "source": [
    "### RNN\n",
    "<img src=\"https://t1.daumcdn.net/thumb/R1280x0/?fname=http://t1.daumcdn.net/brunch/service/user/IgT/image/0KQEHorp3Mpiwo5H9zQpeMQv4SE.png\">"
   ]
  },
  {
   "cell_type": "markdown",
   "metadata": {},
   "source": [
    "- __RNN(LSTM)__ have become the standard model architecture for deep learning __approaches to sequence modeling tasks.__\n",
    "- RNN(LSTM)설명 : https://brunch.co.kr/@chris-song/9\n",
    "- RNNs repeatedly apply a function with trainable parameters to a hidden state. \n",
    "- RNN applications in the natural language domain range from sentence classification to word- and character-level language modeling. \n",
    "- RNNs are also commonly the basic building block for more complex models for tasks such as machine translation or question answering. \n",
    "- Unfortunately standard RNNs, including LSTMs, are limited in their capability to handle tasks involving very long sequences, such as document classification or character-level machine translation, as the computation of features or states for different parts of the document cannot occur in parallel."
   ]
  },
  {
   "cell_type": "markdown",
   "metadata": {},
   "source": [
    "### CNN\n",
    "<img src=\"http://i.stack.imgur.com/HyAs5.png\">\n",
    "- more popular on tasks involving image data, have also been applied to sequence encoding tasks.\n",
    "- Such models apply time-invariant filter functions in parallel to windows along the input sequence. \n",
    "- CNNs possess several advantages over recurrent models, including increased parallelism and better scaling to long sequences such as those often seen with character-level language data. \n",
    "- Convolutional models for sequence processing have been more successful when combined with RNN layers in a hybrid architecture (Lee et al., 2016), because traditional max- and average-pooling approaches to combining convolutional features across timesteps assume time invariance and hence cannot make full use of large-scale sequence order information."
   ]
  },
  {
   "cell_type": "markdown",
   "metadata": {},
   "source": [
    "- We present quasi-recurrent neural networks for neural sequence modeling. \n",
    "- QRNNs address both drawbacks of standard models: \n",
    "    - __Like CNNs,__ QRNNs allow for parallel computation across both timestep and minibatch dimensions, enabling high throughput and good scaling to long sequences. \n",
    "    - __Like RNNs,__ QRNNs allow the output to depend on the overall order of elements in the sequence. \n",
    "- We describe QRNN variants tailored to several natural language tasks, including document-level sentiment classification, language modeling, and character-level machine translation. These models outperform strong LSTM baselines on all three tasks while dramatically reducing computation time."
   ]
  },
  {
   "cell_type": "markdown",
   "metadata": {},
   "source": [
    "<img src=\"http://metamind.io/images/qrnn_block.svg\">"
   ]
  },
  {
   "cell_type": "code",
   "execution_count": null,
   "metadata": {
    "collapsed": true
   },
   "outputs": [],
   "source": []
  },
  {
   "cell_type": "markdown",
   "metadata": {
    "collapsed": true
   },
   "source": [
    "## 2. Model\n",
    "- https://theneuralperspective.com/2016/12/16/quasi-recurrent-neural-networks/"
   ]
  },
  {
   "cell_type": "code",
   "execution_count": null,
   "metadata": {
    "collapsed": true
   },
   "outputs": [],
   "source": []
  },
  {
   "cell_type": "code",
   "execution_count": null,
   "metadata": {
    "collapsed": true
   },
   "outputs": [],
   "source": []
  },
  {
   "cell_type": "markdown",
   "metadata": {
    "collapsed": true
   },
   "source": [
    "# 실습"
   ]
  },
  {
   "cell_type": "code",
   "execution_count": 13,
   "metadata": {
    "collapsed": true
   },
   "outputs": [],
   "source": [
    "import os\n",
    "import time\n",
    "import functools\n",
    "import numpy as np\n",
    "from sklearn.datasets import load_digits\n",
    "from sklearn.metrics import accuracy_score\n",
    "import tensorflow as tf\n",
    "from tensorflow.python.ops import rnn, rnn_cell\n",
    "from matplotlib import pylab\n",
    "%matplotlib inline"
   ]
  },
  {
   "cell_type": "code",
   "execution_count": 14,
   "metadata": {
    "collapsed": false
   },
   "outputs": [
    {
     "data": {
      "text/plain": [
       "{'DESCR': \"Optical Recognition of Handwritten Digits Data Set\\n===================================================\\n\\nNotes\\n-----\\nData Set Characteristics:\\n    :Number of Instances: 5620\\n    :Number of Attributes: 64\\n    :Attribute Information: 8x8 image of integer pixels in the range 0..16.\\n    :Missing Attribute Values: None\\n    :Creator: E. Alpaydin (alpaydin '@' boun.edu.tr)\\n    :Date: July; 1998\\n\\nThis is a copy of the test set of the UCI ML hand-written digits datasets\\nhttp://archive.ics.uci.edu/ml/datasets/Optical+Recognition+of+Handwritten+Digits\\n\\nThe data set contains images of hand-written digits: 10 classes where\\neach class refers to a digit.\\n\\nPreprocessing programs made available by NIST were used to extract\\nnormalized bitmaps of handwritten digits from a preprinted form. From a\\ntotal of 43 people, 30 contributed to the training set and different 13\\nto the test set. 32x32 bitmaps are divided into nonoverlapping blocks of\\n4x4 and the number of on pixels are counted in each block. This generates\\nan input matrix of 8x8 where each element is an integer in the range\\n0..16. This reduces dimensionality and gives invariance to small\\ndistortions.\\n\\nFor info on NIST preprocessing routines, see M. D. Garris, J. L. Blue, G.\\nT. Candela, D. L. Dimmick, J. Geist, P. J. Grother, S. A. Janet, and C.\\nL. Wilson, NIST Form-Based Handprint Recognition System, NISTIR 5469,\\n1994.\\n\\nReferences\\n----------\\n  - C. Kaynak (1995) Methods of Combining Multiple Classifiers and Their\\n    Applications to Handwritten Digit Recognition, MSc Thesis, Institute of\\n    Graduate Studies in Science and Engineering, Bogazici University.\\n  - E. Alpaydin, C. Kaynak (1998) Cascading Classifiers, Kybernetika.\\n  - Ken Tang and Ponnuthurai N. Suganthan and Xi Yao and A. Kai Qin.\\n    Linear dimensionalityreduction using relevance weighted LDA. School of\\n    Electrical and Electronic Engineering Nanyang Technological University.\\n    2005.\\n  - Claudio Gentile. A New Approximate Maximal Margin Classification\\n    Algorithm. NIPS. 2000.\\n\",\n",
       " 'data': array([[  0.,   0.,   5., ...,   0.,   0.,   0.],\n",
       "        [  0.,   0.,   0., ...,  10.,   0.,   0.],\n",
       "        [  0.,   0.,   0., ...,  16.,   9.,   0.],\n",
       "        ..., \n",
       "        [  0.,   0.,   1., ...,   6.,   0.,   0.],\n",
       "        [  0.,   0.,   2., ...,  12.,   0.,   0.],\n",
       "        [  0.,   0.,  10., ...,  12.,   1.,   0.]]),\n",
       " 'images': array([[[  0.,   0.,   5., ...,   1.,   0.,   0.],\n",
       "         [  0.,   0.,  13., ...,  15.,   5.,   0.],\n",
       "         [  0.,   3.,  15., ...,  11.,   8.,   0.],\n",
       "         ..., \n",
       "         [  0.,   4.,  11., ...,  12.,   7.,   0.],\n",
       "         [  0.,   2.,  14., ...,  12.,   0.,   0.],\n",
       "         [  0.,   0.,   6., ...,   0.,   0.,   0.]],\n",
       " \n",
       "        [[  0.,   0.,   0., ...,   5.,   0.,   0.],\n",
       "         [  0.,   0.,   0., ...,   9.,   0.,   0.],\n",
       "         [  0.,   0.,   3., ...,   6.,   0.,   0.],\n",
       "         ..., \n",
       "         [  0.,   0.,   1., ...,   6.,   0.,   0.],\n",
       "         [  0.,   0.,   1., ...,   6.,   0.,   0.],\n",
       "         [  0.,   0.,   0., ...,  10.,   0.,   0.]],\n",
       " \n",
       "        [[  0.,   0.,   0., ...,  12.,   0.,   0.],\n",
       "         [  0.,   0.,   3., ...,  14.,   0.,   0.],\n",
       "         [  0.,   0.,   8., ...,  16.,   0.,   0.],\n",
       "         ..., \n",
       "         [  0.,   9.,  16., ...,   0.,   0.,   0.],\n",
       "         [  0.,   3.,  13., ...,  11.,   5.,   0.],\n",
       "         [  0.,   0.,   0., ...,  16.,   9.,   0.]],\n",
       " \n",
       "        ..., \n",
       "        [[  0.,   0.,   1., ...,   1.,   0.,   0.],\n",
       "         [  0.,   0.,  13., ...,   2.,   1.,   0.],\n",
       "         [  0.,   0.,  16., ...,  16.,   5.,   0.],\n",
       "         ..., \n",
       "         [  0.,   0.,  16., ...,  15.,   0.,   0.],\n",
       "         [  0.,   0.,  15., ...,  16.,   0.,   0.],\n",
       "         [  0.,   0.,   2., ...,   6.,   0.,   0.]],\n",
       " \n",
       "        [[  0.,   0.,   2., ...,   0.,   0.,   0.],\n",
       "         [  0.,   0.,  14., ...,  15.,   1.,   0.],\n",
       "         [  0.,   4.,  16., ...,  16.,   7.,   0.],\n",
       "         ..., \n",
       "         [  0.,   0.,   0., ...,  16.,   2.,   0.],\n",
       "         [  0.,   0.,   4., ...,  16.,   2.,   0.],\n",
       "         [  0.,   0.,   5., ...,  12.,   0.,   0.]],\n",
       " \n",
       "        [[  0.,   0.,  10., ...,   1.,   0.,   0.],\n",
       "         [  0.,   2.,  16., ...,   1.,   0.,   0.],\n",
       "         [  0.,   0.,  15., ...,  15.,   0.,   0.],\n",
       "         ..., \n",
       "         [  0.,   4.,  16., ...,  16.,   6.,   0.],\n",
       "         [  0.,   8.,  16., ...,  16.,   8.,   0.],\n",
       "         [  0.,   1.,   8., ...,  12.,   1.,   0.]]]),\n",
       " 'target': array([0, 1, 2, ..., 8, 9, 8]),\n",
       " 'target_names': array([0, 1, 2, 3, 4, 5, 6, 7, 8, 9])}"
      ]
     },
     "execution_count": 14,
     "metadata": {},
     "output_type": "execute_result"
    }
   ],
   "source": [
    "digits = load_digits()\n",
    "digits"
   ]
  },
  {
   "cell_type": "code",
   "execution_count": 15,
   "metadata": {
    "collapsed": false
   },
   "outputs": [
    {
     "name": "stdout",
     "output_type": "stream",
     "text": [
      "Optical Recognition of Handwritten Digits Data Set\n",
      "===================================================\n",
      "\n",
      "Notes\n",
      "-----\n",
      "Data Set Characteristics:\n",
      "    :Number of Instances: 5620\n",
      "    :Number of Attributes: 64\n",
      "    :Attribute Information: 8x8 image of integer pixels in the range 0..16.\n",
      "    :Missing Attribute Values: None\n",
      "    :Creator: E. Alpaydin (alpaydin '@' boun.edu.tr)\n",
      "    :Date: July; 1998\n",
      "\n",
      "This is a copy of the test set of the UCI ML hand-written digits datasets\n",
      "http://archive.ics.uci.edu/ml/datasets/Optical+Recognition+of+Handwritten+Digits\n",
      "\n",
      "The data set contains images of hand-written digits: 10 classes where\n",
      "each class refers to a digit.\n",
      "\n",
      "Preprocessing programs made available by NIST were used to extract\n",
      "normalized bitmaps of handwritten digits from a preprinted form. From a\n",
      "total of 43 people, 30 contributed to the training set and different 13\n",
      "to the test set. 32x32 bitmaps are divided into nonoverlapping blocks of\n",
      "4x4 and the number of on pixels are counted in each block. This generates\n",
      "an input matrix of 8x8 where each element is an integer in the range\n",
      "0..16. This reduces dimensionality and gives invariance to small\n",
      "distortions.\n",
      "\n",
      "For info on NIST preprocessing routines, see M. D. Garris, J. L. Blue, G.\n",
      "T. Candela, D. L. Dimmick, J. Geist, P. J. Grother, S. A. Janet, and C.\n",
      "L. Wilson, NIST Form-Based Handprint Recognition System, NISTIR 5469,\n",
      "1994.\n",
      "\n",
      "References\n",
      "----------\n",
      "  - C. Kaynak (1995) Methods of Combining Multiple Classifiers and Their\n",
      "    Applications to Handwritten Digit Recognition, MSc Thesis, Institute of\n",
      "    Graduate Studies in Science and Engineering, Bogazici University.\n",
      "  - E. Alpaydin, C. Kaynak (1998) Cascading Classifiers, Kybernetika.\n",
      "  - Ken Tang and Ponnuthurai N. Suganthan and Xi Yao and A. Kai Qin.\n",
      "    Linear dimensionalityreduction using relevance weighted LDA. School of\n",
      "    Electrical and Electronic Engineering Nanyang Technological University.\n",
      "    2005.\n",
      "  - Claudio Gentile. A New Approximate Maximal Margin Classification\n",
      "    Algorithm. NIPS. 2000.\n",
      "\n"
     ]
    }
   ],
   "source": [
    "print(digits.DESCR)"
   ]
  },
  {
   "cell_type": "code",
   "execution_count": 16,
   "metadata": {
    "collapsed": false
   },
   "outputs": [
    {
     "data": {
      "text/plain": [
       "(1797, 8, 8)"
      ]
     },
     "execution_count": 16,
     "metadata": {},
     "output_type": "execute_result"
    }
   ],
   "source": [
    "digits.images.shape"
   ]
  },
  {
   "cell_type": "code",
   "execution_count": 17,
   "metadata": {
    "collapsed": false
   },
   "outputs": [
    {
     "data": {
      "text/plain": [
       "array([[  0.,   0.,   7.,  15.,  13.,   1.,   0.,   0.],\n",
       "       [  0.,   8.,  13.,   6.,  15.,   4.,   0.,   0.],\n",
       "       [  0.,   2.,   1.,  13.,  13.,   0.,   0.,   0.],\n",
       "       [  0.,   0.,   2.,  15.,  11.,   1.,   0.,   0.],\n",
       "       [  0.,   0.,   0.,   1.,  12.,  12.,   1.,   0.],\n",
       "       [  0.,   0.,   0.,   0.,   1.,  10.,   8.,   0.],\n",
       "       [  0.,   0.,   8.,   4.,   5.,  14.,   9.,   0.],\n",
       "       [  0.,   0.,   7.,  13.,  13.,   9.,   0.,   0.]])"
      ]
     },
     "execution_count": 17,
     "metadata": {},
     "output_type": "execute_result"
    }
   ],
   "source": [
    "digits.images[3]"
   ]
  },
  {
   "cell_type": "code",
   "execution_count": 18,
   "metadata": {
    "collapsed": false
   },
   "outputs": [
    {
     "data": {
      "text/plain": [
       "<matplotlib.image.AxesImage at 0x1144077b8>"
      ]
     },
     "execution_count": 18,
     "metadata": {},
     "output_type": "execute_result"
    },
    {
     "data": {
      "image/png": "[encoded data removed]",
      "text/plain": [
       "<matplotlib.figure.Figure at 0x1147fb1d0>"
      ]
     },
     "metadata": {},
     "output_type": "display_data"
    }
   ],
   "source": [
    "pylab.imshow(digits.images[3], cmap=pylab.cm.gray_r)"
   ]
  },
  {
   "cell_type": "code",
   "execution_count": 19,
   "metadata": {
    "collapsed": false
   },
   "outputs": [
    {
     "data": {
      "text/plain": [
       "3"
      ]
     },
     "execution_count": 19,
     "metadata": {},
     "output_type": "execute_result"
    }
   ],
   "source": [
    "digits.target[3]"
   ]
  },
  {
   "cell_type": "code",
   "execution_count": 20,
   "metadata": {
    "collapsed": false
   },
   "outputs": [
    {
     "data": {
      "text/plain": [
       "array([0, 1, 2, 3, 4, 5, 6, 7, 8, 9])"
      ]
     },
     "execution_count": 20,
     "metadata": {},
     "output_type": "execute_result"
    }
   ],
   "source": [
    "digits.target_names"
   ]
  },
  {
   "cell_type": "code",
   "execution_count": null,
   "metadata": {
    "collapsed": true
   },
   "outputs": [],
   "source": []
  },
  {
   "cell_type": "code",
   "execution_count": 21,
   "metadata": {
    "collapsed": true
   },
   "outputs": [],
   "source": [
    "def check_by_digits(graph, qrnn=-1, baseline=False, random=False):\n",
    "    digits = load_digits()\n",
    "    horizon, vertical, n_class = (8, 8, 10)  # 8 x 8 image, 0~9 number(=10 class)\n",
    "    size = 128  # state vector size\n",
    "    batch_size = 128\n",
    "    images = digits.images / np.max(digits.images)  # simple normalization\n",
    "    target = np.array([[1 if t == i else 0 for i in range(n_class)] for t in digits.target])  # to 1 hot vector\n",
    "    learning_rate = 0.001\n",
    "    train_iter = 1000\n",
    "    summary_dir = os.path.join(os.getcwd(), \"./summary\")\n",
    "\n",
    "    with tf.name_scope(\"placeholder\"):\n",
    "        X = tf.placeholder(tf.float32, [batch_size, vertical, horizon])\n",
    "        y = tf.placeholder(tf.float32, [batch_size, n_class])\n",
    "\n",
    "    # 예측값 pred를 아래 3가지 경우에 따라서 구함.\n",
    "    if qrnn > 0:\n",
    "        pred = qrnn_forward(X, size, n_class, batch_size, conv_size=qrnn)\n",
    "        summary_dir += \"/qrnn\"\n",
    "    elif baseline:\n",
    "        pred = baseline_forward(X, size, n_class)\n",
    "        summary_dir += \"/lstm\"\n",
    "    else:\n",
    "        pred = random_forward(X, size, n_class)            \n",
    "        summary_dir += \"/random\"\n",
    "\n",
    "    with tf.name_scope(\"optimization\"):\n",
    "        loss = tf.reduce_mean(tf.nn.softmax_cross_entropy_with_logits(pred, y))\n",
    "        optimizer = tf.train.AdamOptimizer(learning_rate=learning_rate).minimize(loss)\n",
    "\n",
    "    with tf.name_scope(\"evaluation\"):\n",
    "        correct_pred = tf.equal(tf.argmax(pred, 1), tf.argmax(y, 1))\n",
    "        accuracy = tf.reduce_mean(tf.cast(correct_pred, tf.float32))\n",
    "\n",
    "    with tf.name_scope(\"summary\"):\n",
    "        tf.summary.scalar(\"loss\", loss)\n",
    "        tf.summary.scalar(\"accuracy\", accuracy)\n",
    "        merged = tf.summary.merge_all()\n",
    "    writer = tf.summary.FileWriter(summary_dir, graph)\n",
    "\n",
    "    with tf.Session() as sess:\n",
    "        sess.run(tf.global_variables_initializer())\n",
    "        for i in range(train_iter):\n",
    "            indices = np.random.randint(len(digits.target) - batch_size, size=batch_size) # 0부터 1797-128중에서의 random int 128개   \n",
    "            _X = images[indices]\n",
    "            _y = target[indices]\n",
    "            sess.run(optimizer, feed_dict={X: _X, y: _y})\n",
    "\n",
    "            if i % 100 == 0:\n",
    "                _loss, _accuracy, _merged = sess.run([loss, accuracy, merged], feed_dict={X: _X, y: _y})\n",
    "                writer.add_summary(_merged, i)\n",
    "                print(\"Iter {}: loss={}, accuracy={}\".format(i, _loss, _accuracy))\n",
    "\n",
    "        with tf.name_scope(\"test-evaluation\"):\n",
    "            acc = sess.run(accuracy, feed_dict={X: images[-batch_size:], y: target[-batch_size:]})\n",
    "            print(\"Testset Accuracy={}\".format(acc))"
   ]
  },
  {
   "cell_type": "markdown",
   "metadata": {
    "collapsed": false
   },
   "source": [
    "### Random forward"
   ]
  },
  {
   "cell_type": "code",
   "execution_count": 22,
   "metadata": {
    "collapsed": true
   },
   "outputs": [],
   "source": [
    "def random_forward(X, size, n_class):\n",
    "    batch_size = int(X.get_shape()[0])\n",
    "\n",
    "    with tf.name_scope(\"Random-Classifier\"):\n",
    "        rand_vector = tf.random_normal([batch_size, size])  # batch_size x size random vector\n",
    "        W = tf.Variable(tf.random_normal([size, n_class]), name=\"W\")\n",
    "        b = tf.Variable(tf.random_normal([n_class]), name=\"b\")\n",
    "        output = tf.matmul(rand_vector, W) + b\n",
    "    return output"
   ]
  },
  {
   "cell_type": "markdown",
   "metadata": {},
   "source": [
    "### Baseline forward"
   ]
  },
  {
   "cell_type": "code",
   "execution_count": 23,
   "metadata": {
    "collapsed": true
   },
   "outputs": [],
   "source": [
    "def baseline_forward(X, size, n_class):\n",
    "    shape = X.get_shape()\n",
    "    _X = tf.transpose(X, [1, 0, 2])  # batch_size x sentence_length x word_length -> batch_size x sentence_length x word_length\n",
    "    _X = tf.reshape(_X, [-1, int(shape[2])])  # (batch_size x sentence_length) x word_length\n",
    "    seq = tf.split(0, int(shape[1]), _X)  # sentence_length x (batch_size x word_length)\n",
    "\n",
    "    with tf.name_scope(\"LSTM\"):\n",
    "        lstm_cell = rnn_cell.BasicLSTMCell(size, forget_bias=1.0)\n",
    "        outputs, states = rnn.rnn(lstm_cell, seq, dtype=tf.float32)\n",
    "\n",
    "    with tf.name_scope(\"LSTM-Classifier\"):\n",
    "        W = tf.Variable(tf.random_normal([size, n_class]), name=\"W\")\n",
    "        b = tf.Variable(tf.random_normal([n_class]), name=\"b\")\n",
    "        output = tf.matmul(outputs[-1], W) + b\n",
    "\n",
    "    return output"
   ]
  },
  {
   "cell_type": "markdown",
   "metadata": {},
   "source": [
    "### QRNN forward"
   ]
  },
  {
   "cell_type": "code",
   "execution_count": 24,
   "metadata": {
    "collapsed": true
   },
   "outputs": [],
   "source": [
    "def qrnn_forward(X, size, n_class, batch_size, conv_size):\n",
    "    in_size = int(X.get_shape()[2])\n",
    "\n",
    "    qrnn = QRNN(in_size=in_size, size=size, conv_size=conv_size)\n",
    "    hidden = qrnn.forward(X)\n",
    "\n",
    "    with tf.name_scope(\"QRNN-Classifier\"):\n",
    "        W = tf.Variable(tf.random_normal([size, n_class]), name=\"W\")\n",
    "        b = tf.Variable(tf.random_normal([n_class]), name=\"b\")\n",
    "        output = tf.add(tf.matmul(hidden, W), b)\n",
    "    return output"
   ]
  },
  {
   "cell_type": "code",
   "execution_count": null,
   "metadata": {
    "collapsed": true
   },
   "outputs": [],
   "source": []
  },
  {
   "cell_type": "code",
   "execution_count": null,
   "metadata": {
    "collapsed": true
   },
   "outputs": [],
   "source": []
  },
  {
   "cell_type": "code",
   "execution_count": 25,
   "metadata": {
    "collapsed": false
   },
   "outputs": [],
   "source": [
    "def test_random():\n",
    "    print(\"Random Working check\")\n",
    "    with tf.Graph().as_default() as random:\n",
    "        check_by_digits(random, random=True)"
   ]
  },
  {
   "cell_type": "code",
   "execution_count": 26,
   "metadata": {
    "collapsed": false
   },
   "outputs": [
    {
     "name": "stdout",
     "output_type": "stream",
     "text": [
      "Random Working check\n",
      "Iter 0: loss=17.487810134887695, accuracy=0.09375\n",
      "Iter 100: loss=19.236494064331055, accuracy=0.1015625\n",
      "Iter 200: loss=16.416854858398438, accuracy=0.078125\n",
      "Iter 300: loss=15.105697631835938, accuracy=0.078125\n",
      "Iter 400: loss=15.88584041595459, accuracy=0.1015625\n",
      "Iter 500: loss=14.164024353027344, accuracy=0.09375\n",
      "Iter 600: loss=15.28477668762207, accuracy=0.0703125\n",
      "Iter 700: loss=13.537178039550781, accuracy=0.125\n",
      "Iter 800: loss=12.486244201660156, accuracy=0.1484375\n",
      "Iter 900: loss=11.974689483642578, accuracy=0.078125\n",
      "Testset Accuracy=0.109375\n",
      "CPU times: user 2.03 s, sys: 205 ms, total: 2.24 s\n",
      "Wall time: 1.67 s\n"
     ]
    }
   ],
   "source": [
    "%%time\n",
    "test_random()"
   ]
  },
  {
   "cell_type": "code",
   "execution_count": null,
   "metadata": {
    "collapsed": true
   },
   "outputs": [],
   "source": []
  },
  {
   "cell_type": "code",
   "execution_count": 27,
   "metadata": {
    "collapsed": true
   },
   "outputs": [],
   "source": [
    "def test_baseline():\n",
    "    print(\"Baseline(LSTM) Working check\")\n",
    "    with tf.Graph().as_default() as baseline:\n",
    "        check_by_digits(baseline, baseline=True)"
   ]
  },
  {
   "cell_type": "code",
   "execution_count": 28,
   "metadata": {
    "collapsed": false
   },
   "outputs": [
    {
     "name": "stdout",
     "output_type": "stream",
     "text": [
      "Baseline(LSTM) Working check\n",
      "Iter 0: loss=2.405916452407837, accuracy=0.1328125\n",
      "Iter 100: loss=0.35039275884628296, accuracy=0.9140625\n",
      "Iter 200: loss=0.2035084068775177, accuracy=0.9296875\n",
      "Iter 300: loss=0.05401304364204407, accuracy=0.9765625\n",
      "Iter 400: loss=0.021765559911727905, accuracy=1.0\n",
      "Iter 500: loss=0.015437640249729156, accuracy=1.0\n",
      "Iter 600: loss=0.028048399835824966, accuracy=1.0\n",
      "Iter 700: loss=0.02051163837313652, accuracy=1.0\n",
      "Iter 800: loss=0.004900586325675249, accuracy=1.0\n",
      "Iter 900: loss=0.009282441809773445, accuracy=1.0\n",
      "Testset Accuracy=0.9453125\n",
      "CPU times: user 56.7 s, sys: 3 s, total: 59.7 s\n",
      "Wall time: 25 s\n"
     ]
    }
   ],
   "source": [
    "%%time\n",
    "test_baseline()"
   ]
  },
  {
   "cell_type": "code",
   "execution_count": null,
   "metadata": {
    "collapsed": true
   },
   "outputs": [],
   "source": []
  },
  {
   "cell_type": "code",
   "execution_count": null,
   "metadata": {
    "collapsed": true
   },
   "outputs": [],
   "source": []
  },
  {
   "cell_type": "code",
   "execution_count": 34,
   "metadata": {
    "collapsed": true
   },
   "outputs": [],
   "source": [
    "class QRNN():\n",
    "    def __init__(self, in_size, size, conv_size=2):\n",
    "        self.kernel = None\n",
    "        self.batch_size = -1\n",
    "        self.conv_size = conv_size\n",
    "        self.c = None\n",
    "        self.h = None\n",
    "        self._x = None\n",
    "        if conv_size == 1:\n",
    "            self.kernel = QRNNLinear(in_size, size)\n",
    "        elif conv_size == 2:\n",
    "            self.kernel = QRNNWithPrevious(in_size, size)\n",
    "        else:\n",
    "            self.kernel = QRNNConvolution(in_size, size, conv_size)\n",
    "\n",
    "    def _step(self, f, z, o):\n",
    "        with tf.variable_scope(\"fo-Pool\"):\n",
    "            # f,z,o is batch_size x size\n",
    "            f = tf.sigmoid(f)\n",
    "            z = tf.tanh(z)\n",
    "            o = tf.sigmoid(o)\n",
    "            self.c = tf.mul(f, self.c) + tf.mul(1 - f, z)\n",
    "            self.h = tf.mul(o, self.c)  # h is size vector\n",
    "\n",
    "        return self.h\n",
    "\n",
    "    def forward(self, x):\n",
    "        length = lambda mx: int(mx.get_shape()[0])\n",
    "\n",
    "        with tf.variable_scope(\"QRNN/Forward\"):\n",
    "            if self.c is None:\n",
    "                # init context cell\n",
    "                self.c = tf.zeros([length(x), self.kernel.size], dtype=tf.float32)\n",
    "\n",
    "            if self.conv_size <= 2:\n",
    "                # x is batch_size x sentence_length x word_length\n",
    "                # -> now, transpose it to sentence_length x batch_size x word_length\n",
    "                _x = tf.transpose(x, [1, 0, 2])\n",
    "\n",
    "                for i in range(length(_x)):\n",
    "                    t = _x[i] # t is batch_size x word_length matrix\n",
    "                    f, z, o = self.kernel.forward(t)\n",
    "                    self._step(f, z, o)\n",
    "            else:\n",
    "                c_f, c_z, c_o = self.kernel.conv(x)\n",
    "                for i in range(length(c_f)):\n",
    "                    f, z, o = c_f[i], c_z[i], c_o[i]\n",
    "                    self._step(f, z, o)\n",
    "\n",
    "        return self.h"
   ]
  },
  {
   "cell_type": "code",
   "execution_count": 32,
   "metadata": {
    "collapsed": true
   },
   "outputs": [],
   "source": [
    "class QRNNLinear():\n",
    "    def __init__(self, in_size, size):\n",
    "        self.in_size = in_size\n",
    "        self.size = size\n",
    "        self._weight_size = self.size * 3  # z, f, o\n",
    "        with tf.variable_scope(\"QRNN/Variable/Linear\"):\n",
    "            initializer = tf.random_normal_initializer()\n",
    "            self.W = tf.get_variable(\"W\", [self.in_size, self._weight_size], initializer=initializer)\n",
    "            self.b = tf.get_variable(\"b\", [self._weight_size], initializer=initializer)\n",
    "\n",
    "    def forward(self, t):\n",
    "        # x is batch_size x word_length matrix\n",
    "        _weighted = tf.matmul(t, self.W)\n",
    "        _weighted = tf.add(_weighted, self.b)\n",
    "\n",
    "        # now, _weighted is batch_size x weight_size\n",
    "        f, z, o = tf.split(1, 3, _weighted)  # split to f, z, o. each matrix is batch_size x size\n",
    "        return f, z, o"
   ]
  },
  {
   "cell_type": "code",
   "execution_count": 33,
   "metadata": {
    "collapsed": true
   },
   "outputs": [],
   "source": [
    "class QRNNWithPrevious():\n",
    "\n",
    "    def __init__(self, in_size, size):\n",
    "        self.in_size = in_size\n",
    "        self.size = size\n",
    "        self._weight_size = self.size * 3  # z, f, o\n",
    "        self._previous = None\n",
    "        with tf.variable_scope(\"QRNN/Variable/WithPrevious\"):\n",
    "            initializer = tf.random_normal_initializer()\n",
    "            self.W = tf.get_variable(\"W\", [self.in_size, self._weight_size], initializer=initializer)\n",
    "            self.V = tf.get_variable(\"V\", [self.in_size, self._weight_size], initializer=initializer)\n",
    "            self.b = tf.get_variable(\"b\", [self._weight_size], initializer=initializer)\n",
    "\n",
    "    def forward(self, t):\n",
    "        if self._previous is None:\n",
    "            self._previous = tf.get_variable(\"previous\", [t.get_shape()[0], self.in_size], initializer=tf.random_normal_initializer())\n",
    "\n",
    "        _current = tf.matmul(t, self.W)\n",
    "        _previous = tf.matmul(self._previous, self.V)\n",
    "        _previous = tf.add(_previous, self.b)\n",
    "        _weighted = tf.add(_current, _previous)\n",
    "\n",
    "        f, z, o = tf.split(1, 3, _weighted)  # split to f, z, o. each matrix is batch_size x size\n",
    "        self._previous = t\n",
    "        return f, z, o\n"
   ]
  },
  {
   "cell_type": "code",
   "execution_count": 30,
   "metadata": {
    "collapsed": true
   },
   "outputs": [],
   "source": [
    "class QRNNConvolution():\n",
    "\n",
    "    def __init__(self, in_size, size, conv_size):\n",
    "        self.in_size = in_size\n",
    "        self.size = size\n",
    "        self.conv_size = conv_size\n",
    "        self._weight_size = self.size * 3  # z, f, o\n",
    "\n",
    "        with tf.variable_scope(\"QRNN/Variable/Convolution\"):\n",
    "            initializer = tf.random_normal_initializer()\n",
    "            self.conv_filter = tf.get_variable(\"conv_filter\", [conv_size, in_size, self._weight_size], initializer=initializer)\n",
    "\n",
    "    def conv(self, x):\n",
    "        # !! x is batch_size x sentence_length x word_length(=channel) !!\n",
    "        _weighted = tf.nn.conv1d(x, self.conv_filter, stride=1, padding=\"SAME\", data_format=\"NHWC\")\n",
    "\n",
    "        # _weighted is batch_size x conved_size x output_channel\n",
    "        _w = tf.transpose(_weighted, [1, 0, 2])  # conved_size x  batch_size x output_channel\n",
    "        _ws = tf.split(2, 3, _w) # make 3(f, z, o) conved_size x  batch_size x size\n",
    "        return _ws"
   ]
  },
  {
   "cell_type": "code",
   "execution_count": 141,
   "metadata": {
    "collapsed": true
   },
   "outputs": [],
   "source": [
    "tf.nn.conv1d?"
   ]
  },
  {
   "cell_type": "code",
   "execution_count": 43,
   "metadata": {
    "collapsed": true
   },
   "outputs": [],
   "source": [
    "def test_qrnn():\n",
    "    print(\"QRNN Working check\")\n",
    "    with tf.Graph().as_default() as qrnn:\n",
    "        check_by_digits(qrnn, qrnn=20)"
   ]
  },
  {
   "cell_type": "code",
   "execution_count": 44,
   "metadata": {
    "collapsed": false
   },
   "outputs": [
    {
     "name": "stdout",
     "output_type": "stream",
     "text": [
      "QRNN Working check\n",
      "Iter 0: loss=7.124448299407959, accuracy=0.0390625\n",
      "Iter 100: loss=1.197694182395935, accuracy=0.6640625\n",
      "Iter 200: loss=0.4061892628669739, accuracy=0.8671875\n",
      "Iter 300: loss=0.1676613986492157, accuracy=0.9453125\n",
      "Iter 400: loss=0.10967914760112762, accuracy=0.96875\n",
      "Iter 500: loss=0.08891242742538452, accuracy=0.9765625\n",
      "Iter 600: loss=0.05394919961690903, accuracy=0.9765625\n",
      "Iter 700: loss=0.027798496186733246, accuracy=1.0\n",
      "Iter 800: loss=0.024984735995531082, accuracy=1.0\n",
      "Iter 900: loss=0.009005965664982796, accuracy=1.0\n",
      "Testset Accuracy=0.9296875\n",
      "CPU times: user 1min 13s, sys: 6.7 s, total: 1min 20s\n",
      "Wall time: 26.2 s\n"
     ]
    }
   ],
   "source": [
    "%%time\n",
    "test_qrnn()"
   ]
  },
  {
   "cell_type": "code",
   "execution_count": null,
   "metadata": {
    "collapsed": true
   },
   "outputs": [],
   "source": []
  },
  {
   "cell_type": "code",
   "execution_count": null,
   "metadata": {
    "collapsed": true
   },
   "outputs": [],
   "source": []
  },
  {
   "cell_type": "code",
   "execution_count": null,
   "metadata": {
    "collapsed": true
   },
   "outputs": [],
   "source": []
  },
  {
   "cell_type": "code",
   "execution_count": null,
   "metadata": {
    "collapsed": true
   },
   "outputs": [],
   "source": []
  },
  {
   "cell_type": "code",
   "execution_count": null,
   "metadata": {
    "collapsed": true
   },
   "outputs": [],
   "source": []
  },
  {
   "cell_type": "code",
   "execution_count": null,
   "metadata": {
    "collapsed": true
   },
   "outputs": [],
   "source": []
  },
  {
   "cell_type": "code",
   "execution_count": null,
   "metadata": {
    "collapsed": true
   },
   "outputs": [],
   "source": []
  }
 ],
 "metadata": {
  "anaconda-cloud": {},
  "kernelspec": {
   "display_name": "Python 3",
   "language": "python",
   "name": "python3"
  },
  "language_info": {
   "codemirror_mode": {
    "name": "ipython",
    "version": 3
   },
   "file_extension": ".py",
   "mimetype": "text/x-python",
   "name": "python",
   "nbconvert_exporter": "python",
   "pygments_lexer": "ipython3",
   "version": "3.5.0"
  }
 },
 "nbformat": 4,
 "nbformat_minor": 0
}
