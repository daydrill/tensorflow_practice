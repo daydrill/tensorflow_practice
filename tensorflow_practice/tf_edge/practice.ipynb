{
 "cells": [
  {
   "cell_type": "code",
   "execution_count": null,
   "metadata": {
    "collapsed": true
   },
   "outputs": [],
   "source": []
  },
  {
   "cell_type": "markdown",
   "metadata": {},
   "source": [
    "# Chapter 3_텐서플로우 기본"
   ]
  },
  {
   "cell_type": "markdown",
   "metadata": {},
   "source": [
    "### simple model\n",
    "<img src=\"./img/simple.jpeg\" width=50%>"
   ]
  },
  {
   "cell_type": "code",
   "execution_count": 10,
   "metadata": {
    "collapsed": true
   },
   "outputs": [],
   "source": [
    "import tensorflow as tf"
   ]
  },
  {
   "cell_type": "code",
   "execution_count": 11,
   "metadata": {
    "collapsed": true
   },
   "outputs": [],
   "source": [
    "a = tf.constant(5, name=\"imput_a\")\n",
    "b = tf.constant(3, name=\"imput_b\")"
   ]
  },
  {
   "cell_type": "code",
   "execution_count": 12,
   "metadata": {
    "collapsed": true
   },
   "outputs": [],
   "source": [
    "c = tf.multiply(a,b, name=\"mul_c\")\n",
    "d = tf.add(a,b, name=\"add_d\")"
   ]
  },
  {
   "cell_type": "code",
   "execution_count": 13,
   "metadata": {
    "collapsed": false
   },
   "outputs": [],
   "source": [
    "e = tf.add(c,d, name=\"add_e\")"
   ]
  },
  {
   "cell_type": "code",
   "execution_count": 16,
   "metadata": {
    "collapsed": false
   },
   "outputs": [
    {
     "data": {
      "text/plain": [
       "23"
      ]
     },
     "execution_count": 16,
     "metadata": {},
     "output_type": "execute_result"
    }
   ],
   "source": [
    "sess = tf.Session()\n",
    "sess.run(e)"
   ]
  },
  {
   "cell_type": "code",
   "execution_count": null,
   "metadata": {
    "collapsed": true
   },
   "outputs": [],
   "source": []
  },
  {
   "cell_type": "markdown",
   "metadata": {},
   "source": [
    "### 개선사항\n",
    "- 입력은 tf.constant 노드 대신에 __플레이스홀더를 사용.__\n",
    "- 두개의 이산 스칼라(discrete scalar) 입력 대신에 __가변 길이의 하나의 벡터 사용.__\n",
    "- 그래프를 사용하는 동안의 시간에 따른 __모든 출력값을 누적.__\n",
    "- 그래프를 __namescope__로 깔끔하게 분할.\n",
    "- 각각의 실행 후에 그래프의 출력, 모든 출력 결과의 누적, 모든 출력 결과의 평균을 __텐서보드에서 사용하기 위해서 디스크에 저장.__"
   ]
  },
  {
   "cell_type": "code",
   "execution_count": null,
   "metadata": {
    "collapsed": true
   },
   "outputs": [],
   "source": []
  },
  {
   "cell_type": "markdown",
   "metadata": {},
   "source": [
    "### better model\n",
    "<img src=\"./img/better.jpeg\" width=50%>"
   ]
  },
  {
   "cell_type": "code",
   "execution_count": null,
   "metadata": {
    "collapsed": true
   },
   "outputs": [],
   "source": []
  },
  {
   "cell_type": "code",
   "execution_count": 19,
   "metadata": {
    "collapsed": true
   },
   "outputs": [],
   "source": [
    "import numpy as np"
   ]
  },
  {
   "cell_type": "code",
   "execution_count": 22,
   "metadata": {
    "collapsed": false
   },
   "outputs": [
    {
     "name": "stdout",
     "output_type": "stream",
     "text": [
      "23\n"
     ]
    }
   ],
   "source": [
    "graph = tf.Graph()\n",
    "with graph.as_default():\n",
    "    \n",
    "    ### 속성상 전역변수들인 것들 \n",
    "    with tf.name_scope(\"variables\"): \n",
    "        global_step = tf.Variable(0, dtype=tf.int32, trainable=False, name=\"global_step\") \n",
    "        total_output = tf.Variable(0.0, dtype=tf.float32, trainable=False, name=\"global_step\")\n",
    "        # trainable=False : 변수들이 수작업으로 셋팅될것이라고 명시\n",
    "        \n",
    "    ### 핵심 연산 부분    \n",
    "    with tf.name_scope(\"transformation\"): \n",
    "        \n",
    "        # input layer\n",
    "        with tf.name_scope(\"input\"):\n",
    "            a = tf.placeholder(tf.float32, shape=[None], name=\"input_placeholder_a\")\n",
    "            \n",
    "        # middle layer\n",
    "        with tf.name_scope(\"intermediate_layer\"):\n",
    "            b = tf.reduce_prod(a, name=\"plod_b\")\n",
    "            c = tf.reduce_sum(a, name=\"sum_c\")\n",
    "            \n",
    "        # output layer\n",
    "        with tf.name_scope(\"output\"):\n",
    "            output = tf.add(b,c, name=\"output\")\n",
    "            \n",
    "            \n",
    "    ### 트랜스포메이션 연산을 마친후에 두개의 변수를 업데이트하는 연산\n",
    "    with tf.name_scope(\"update\"):\n",
    "        # 최근 output으로부터 total_output 변수 증가.\n",
    "        update_total = total_output.assign_add(output)\n",
    "        \n",
    "        # 그래프가 run할때마다 global_step 변수 증가.\n",
    "        increment_step = global_step.assign_add(1)\n",
    "        \n",
    "        \n",
    "    ### 텐서보드 요약\n",
    "    with tf.name_scope(\"summaries\"):\n",
    "        avg = tf.div(update_total, tf.cast(increment_step, tf.float32), name=\"average\")\n",
    "        \n",
    "        tf.summary.scalar(b'Output', )\n",
    "            \n",
    "\n"
   ]
  },
  {
   "cell_type": "code",
   "execution_count": null,
   "metadata": {
    "collapsed": true
   },
   "outputs": [],
   "source": [
    "with tf.Session() as sess:\n",
    "    a = tf.placeholder(tf.int32, shape=[None], name=\"my_input\")\n",
    "\n",
    "    b = tf.reduce_prod(a, name=\"plod_b\")\n",
    "    c = tf.reduce_sum(a, name=\"sum_c\")\n",
    "\n",
    "    d = tf.add(b,c, name=\"add_d\")\n",
    "    \n",
    "    input_dict = {a: np.array([5,3], dtype=np.int32)}\n",
    "    print(sess.run(d, feed_dict=input_dict))"
   ]
  },
  {
   "cell_type": "code",
   "execution_count": null,
   "metadata": {
    "collapsed": true
   },
   "outputs": [],
   "source": []
  },
  {
   "cell_type": "code",
   "execution_count": null,
   "metadata": {
    "collapsed": true
   },
   "outputs": [],
   "source": []
  }
 ],
 "metadata": {
  "kernelspec": {
   "display_name": "Python 3",
   "language": "python",
   "name": "python3"
  },
  "language_info": {
   "codemirror_mode": {
    "name": "ipython",
    "version": 3
   },
   "file_extension": ".py",
   "mimetype": "text/x-python",
   "name": "python",
   "nbconvert_exporter": "python",
   "pygments_lexer": "ipython3",
   "version": "3.5.0"
  }
 },
 "nbformat": 4,
 "nbformat_minor": 0
}
