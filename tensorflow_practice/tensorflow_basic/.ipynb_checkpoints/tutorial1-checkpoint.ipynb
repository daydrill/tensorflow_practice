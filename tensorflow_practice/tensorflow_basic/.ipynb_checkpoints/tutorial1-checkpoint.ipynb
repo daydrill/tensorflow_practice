{
 "cells": [
  {
   "cell_type": "code",
   "execution_count": null,
   "metadata": {
    "collapsed": true
   },
   "outputs": [],
   "source": []
  },
  {
   "cell_type": "markdown",
   "metadata": {},
   "source": [
    "# 1. Basics"
   ]
  },
  {
   "cell_type": "markdown",
   "metadata": {},
   "source": [
    "## 1_helloworld.py"
   ]
  },
  {
   "cell_type": "code",
   "execution_count": 26,
   "metadata": {
    "collapsed": true
   },
   "outputs": [],
   "source": [
    "import tensorflow as tf"
   ]
  },
  {
   "cell_type": "code",
   "execution_count": 27,
   "metadata": {
    "collapsed": true
   },
   "outputs": [],
   "source": [
    "# Simple hello world using TensorFlow\n",
    "\n",
    "# Create a Constant op\n",
    "# The op is added as a node to the default graph.\n",
    "#\n",
    "# The value returned by the constructor represents the output\n",
    "# of the Constant op.\n",
    "\n",
    "hello = tf.constant('Hello, TensorFlow!')"
   ]
  },
  {
   "cell_type": "code",
   "execution_count": 28,
   "metadata": {
    "collapsed": false
   },
   "outputs": [
    {
     "name": "stdout",
     "output_type": "stream",
     "text": [
      "Tensor(\"Const:0\", shape=TensorShape([]), dtype=string)\n"
     ]
    }
   ],
   "source": [
    "# Tensorflow는 모든것이 Operation!\n",
    "print hello\n",
    "# => Tensor(~~) 로 출력. 즉, hello는 그냥 operation일뿐 아무것도 아님.\n",
    "# run()으로 실행을 할때 의미있는 역할을 하는 것."
   ]
  },
  {
   "cell_type": "code",
   "execution_count": 29,
   "metadata": {
    "collapsed": true
   },
   "outputs": [],
   "source": [
    "# Start tf session\n",
    "sess = tf.Session()"
   ]
  },
  {
   "cell_type": "code",
   "execution_count": 30,
   "metadata": {
    "collapsed": false
   },
   "outputs": [
    {
     "name": "stdout",
     "output_type": "stream",
     "text": [
      "Hello, TensorFlow!\n"
     ]
    }
   ],
   "source": [
    "# Run graph\n",
    "print sess.run(hello)"
   ]
  },
  {
   "cell_type": "code",
   "execution_count": null,
   "metadata": {
    "collapsed": true
   },
   "outputs": [],
   "source": []
  },
  {
   "cell_type": "code",
   "execution_count": null,
   "metadata": {
    "collapsed": true
   },
   "outputs": [],
   "source": []
  },
  {
   "cell_type": "markdown",
   "metadata": {},
   "source": [
    "## 2_helloOp.py"
   ]
  },
  {
   "cell_type": "code",
   "execution_count": 41,
   "metadata": {
    "collapsed": true
   },
   "outputs": [],
   "source": [
    "import tensorflow as tf"
   ]
  },
  {
   "cell_type": "code",
   "execution_count": 42,
   "metadata": {
    "collapsed": true
   },
   "outputs": [],
   "source": [
    "# Start tf session\n",
    "sess = tf.Session()"
   ]
  },
  {
   "cell_type": "code",
   "execution_count": 43,
   "metadata": {
    "collapsed": true
   },
   "outputs": [],
   "source": [
    "# Basic constant operations\n",
    "# The value returned by the constructor represents the output\n",
    "# of the Constant op.\n",
    "a = tf.constant(2)\n",
    "b = tf.constant(3)"
   ]
  },
  {
   "cell_type": "code",
   "execution_count": 44,
   "metadata": {
    "collapsed": true
   },
   "outputs": [],
   "source": [
    "c = a+ b"
   ]
  },
  {
   "cell_type": "code",
   "execution_count": 45,
   "metadata": {
    "collapsed": false
   },
   "outputs": [
    {
     "name": "stdout",
     "output_type": "stream",
     "text": [
      "Tensor(\"add_4:0\", shape=TensorShape([]), dtype=int32)\n"
     ]
    }
   ],
   "source": [
    "# print out operation\n",
    "print c\n",
    "# => Tensor( add~~ )라고 출력. add하는 operation일뿐 아무것도 아님."
   ]
  },
  {
   "cell_type": "code",
   "execution_count": 46,
   "metadata": {
    "collapsed": false
   },
   "outputs": [
    {
     "name": "stdout",
     "output_type": "stream",
     "text": [
      "5\n"
     ]
    }
   ],
   "source": [
    "# print out the result of operation\n",
    "print sess.run(c)\n",
    "# => c를 수행하기 위해서는 sess.run() 해야함!"
   ]
  },
  {
   "cell_type": "code",
   "execution_count": null,
   "metadata": {
    "collapsed": true
   },
   "outputs": [],
   "source": []
  },
  {
   "cell_type": "code",
   "execution_count": null,
   "metadata": {
    "collapsed": true
   },
   "outputs": [],
   "source": []
  },
  {
   "cell_type": "markdown",
   "metadata": {},
   "source": [
    "## 3_operations.py"
   ]
  },
  {
   "cell_type": "code",
   "execution_count": 38,
   "metadata": {
    "collapsed": true
   },
   "outputs": [],
   "source": [
    "import tensorflow as tf"
   ]
  },
  {
   "cell_type": "code",
   "execution_count": null,
   "metadata": {
    "collapsed": true
   },
   "outputs": [],
   "source": [
    "# Basic constant operations\n",
    "# The value returned by the constructor represents the output\n",
    "# of the Constant op.\n",
    "a = tf.constant(2)\n",
    "b = tf.constant(3)"
   ]
  },
  {
   "cell_type": "code",
   "execution_count": 39,
   "metadata": {
    "collapsed": false
   },
   "outputs": [
    {
     "name": "stdout",
     "output_type": "stream",
     "text": [
      "a=2, b=3\n",
      "Addition with constants: 5\n",
      "Multiplication with constants: 6\n"
     ]
    }
   ],
   "source": [
    "# Launch the default graph.\n",
    "with tf.Session() as sess:\n",
    "    print \"a=2, b=3\"\n",
    "    print \"Addition with constants: %i\" % sess.run(a+b)\n",
    "    print \"Multiplication with constants: %i\" % sess.run(a*b)"
   ]
  },
  {
   "cell_type": "code",
   "execution_count": null,
   "metadata": {
    "collapsed": true
   },
   "outputs": [],
   "source": []
  },
  {
   "cell_type": "markdown",
   "metadata": {},
   "source": [
    "## 4_Placeholder"
   ]
  },
  {
   "cell_type": "code",
   "execution_count": 50,
   "metadata": {
    "collapsed": true
   },
   "outputs": [],
   "source": [
    "# Basic Operations with variable as graph input\n",
    "# The value returned by the constructor represents the output\n",
    "# of the Variable op. (define as input when running session)\n",
    "# tf Graph input\n",
    "a = tf.placeholder(tf.int16)\n",
    "b = tf.placeholder(tf.int16)"
   ]
  },
  {
   "cell_type": "code",
   "execution_count": 51,
   "metadata": {
    "collapsed": true
   },
   "outputs": [],
   "source": [
    "# Define some operations\n",
    "add = tf.add(a, b)\n",
    "mul = tf.mul(a, b)"
   ]
  },
  {
   "cell_type": "code",
   "execution_count": 52,
   "metadata": {
    "collapsed": false
   },
   "outputs": [
    {
     "name": "stdout",
     "output_type": "stream",
     "text": [
      "Addition with variables: 5\n",
      "Multiplication with variables: 6\n"
     ]
    }
   ],
   "source": [
    "# Launch the default graph.\n",
    "with tf.Session() as sess:\n",
    "    # Run every operation with variable input\n",
    "    print \"Addition with variables: %i\" % sess.run(add, feed_dict={a: 2, b: 3})\n",
    "    print \"Multiplication with variables: %i\" % sess.run(mul, feed_dict={a: 2, b: 3})"
   ]
  },
  {
   "cell_type": "code",
   "execution_count": null,
   "metadata": {
    "collapsed": true
   },
   "outputs": [],
   "source": []
  },
  {
   "cell_type": "code",
   "execution_count": null,
   "metadata": {
    "collapsed": true
   },
   "outputs": [],
   "source": []
  },
  {
   "cell_type": "code",
   "execution_count": null,
   "metadata": {
    "collapsed": true
   },
   "outputs": [],
   "source": []
  },
  {
   "cell_type": "markdown",
   "metadata": {},
   "source": [
    "## 4_matrixOperations.py"
   ]
  },
  {
   "cell_type": "code",
   "execution_count": 55,
   "metadata": {
    "collapsed": true
   },
   "outputs": [],
   "source": [
    "# ----------------\n",
    "# More in details:\n",
    "# Matrix Multiplication from TensorFlow official tutorial\n",
    "\n",
    "# Create a Constant op that produces a 1x2 matrix.  The op is\n",
    "# added as a node to the default graph.\n",
    "#\n",
    "# The value returned by the constructor represents the output\n",
    "# of the Constant op.\n",
    "matrix1 = tf.constant([[3., 3.]])"
   ]
  },
  {
   "cell_type": "code",
   "execution_count": 56,
   "metadata": {
    "collapsed": true
   },
   "outputs": [],
   "source": [
    "# Create another Constant that produces a 2x1 matrix.\n",
    "matrix2 = tf.constant([[2.],[2.]])"
   ]
  },
  {
   "cell_type": "code",
   "execution_count": 57,
   "metadata": {
    "collapsed": true
   },
   "outputs": [],
   "source": [
    "# Create a Matmul op that takes 'matrix1' and 'matrix2' as inputs.\n",
    "# The returned value, 'product', represents the result of the matrix\n",
    "# multiplication.\n",
    "product = tf.matmul(matrix1, matrix2)"
   ]
  },
  {
   "cell_type": "code",
   "execution_count": 58,
   "metadata": {
    "collapsed": false
   },
   "outputs": [
    {
     "name": "stdout",
     "output_type": "stream",
     "text": [
      "[[ 12.]]\n"
     ]
    }
   ],
   "source": [
    "# To run the matmul op we call the session 'run()' method, passing 'product'\n",
    "# which represents the output of the matmul op.  This indicates to the call\n",
    "# that we want to get the output of the matmul op back.\n",
    "#\n",
    "# All inputs needed by the op are run automatically by the session.  They\n",
    "# typically are run in parallel.\n",
    "#\n",
    "# The call 'run(product)' thus causes the execution of threes ops in the\n",
    "# graph: the two constants and matmul.\n",
    "#\n",
    "# The output of the op is returned in 'result' as a numpy `ndarray` object.\n",
    "with tf.Session() as sess:\n",
    "    result = sess.run(product)\n",
    "    print result"
   ]
  },
  {
   "cell_type": "code",
   "execution_count": null,
   "metadata": {
    "collapsed": true
   },
   "outputs": [],
   "source": []
  },
  {
   "cell_type": "code",
   "execution_count": null,
   "metadata": {
    "collapsed": true
   },
   "outputs": [],
   "source": []
  },
  {
   "cell_type": "markdown",
   "metadata": {},
   "source": [
    "#2. Linear Regression"
   ]
  },
  {
   "cell_type": "markdown",
   "metadata": {},
   "source": [
    "## 1_linear.py"
   ]
  },
  {
   "cell_type": "code",
   "execution_count": 2,
   "metadata": {
    "collapsed": true
   },
   "outputs": [],
   "source": [
    "import tensorflow as tf"
   ]
  },
  {
   "cell_type": "code",
   "execution_count": 3,
   "metadata": {
    "collapsed": true
   },
   "outputs": [],
   "source": [
    "# train data\n",
    "x_data=[1,2,3]\n",
    "y_data=[1,2,3]"
   ]
  },
  {
   "cell_type": "code",
   "execution_count": 4,
   "metadata": {
    "collapsed": true
   },
   "outputs": [],
   "source": [
    "# try to find values for W and b that compute y_data = W * x_data + b\n",
    "# (We know that W=1, b=0, but tf will figure that out for us.)\n",
    "W = tf.Variable(tf.random_uniform([1], -1.0, 1.0)) \n",
    "b = tf.Variable(tf.random_uniform([1], -1.0, 1.0))\n",
    "# => -1 ~ 1의 랜덤한 수. "
   ]
  },
  {
   "cell_type": "markdown",
   "metadata": {},
   "source": [
    "<img src=\"img/2_1.png\"/>"
   ]
  },
  {
   "cell_type": "code",
   "execution_count": 7,
   "metadata": {
    "collapsed": true
   },
   "outputs": [],
   "source": [
    "# Our Hypothesis\n",
    "hypothesis = W * x_data + b"
   ]
  },
  {
   "cell_type": "markdown",
   "metadata": {},
   "source": [
    "<img src=\"img/2_2.png\"/>"
   ]
  },
  {
   "cell_type": "code",
   "execution_count": 8,
   "metadata": {
    "collapsed": true
   },
   "outputs": [],
   "source": [
    "# Simplified cost function\n",
    "cost = tf.reduce_mean(tf.square(hypothesis - y_data))"
   ]
  },
  {
   "cell_type": "code",
   "execution_count": 9,
   "metadata": {
    "collapsed": true
   },
   "outputs": [],
   "source": [
    "#tf.reduce_mean?\n",
    "# Computes the mean of elements across dimensions of a tensor."
   ]
  },
  {
   "cell_type": "code",
   "execution_count": null,
   "metadata": {
    "collapsed": true
   },
   "outputs": [],
   "source": []
  },
  {
   "cell_type": "code",
   "execution_count": 10,
   "metadata": {
    "collapsed": true
   },
   "outputs": [],
   "source": [
    "### reduce_mean 테스트\n",
    "x = [[1.,1.],[2.,2.]]\n",
    "temp1 = tf.reduce_mean(x)\n",
    "temp2 = tf.reduce_mean(x,0)\n",
    "temp3 = tf.reduce_mean(x,1)\n",
    "#sess = tf.Session()\n",
    "#sess.run(temp3)"
   ]
  },
  {
   "cell_type": "code",
   "execution_count": null,
   "metadata": {
    "collapsed": true
   },
   "outputs": [],
   "source": []
  },
  {
   "cell_type": "code",
   "execution_count": 11,
   "metadata": {
    "collapsed": true
   },
   "outputs": [],
   "source": [
    "# Minimize\n",
    "a = tf.Variable(0.1) # Learning rate, alpha\n",
    "optimizer = tf.train.GradientDescentOptimizer(a) #Gradient Descent Algorithm\n",
    "train = optimizer.minimize(cost)"
   ]
  },
  {
   "cell_type": "markdown",
   "metadata": {},
   "source": [
    "### 처음에 초기화 반드시 해야함!! 안하면 에러!!"
   ]
  },
  {
   "cell_type": "code",
   "execution_count": 12,
   "metadata": {
    "collapsed": true
   },
   "outputs": [],
   "source": [
    "# Before Starting, initialize the variables. We will 'run' this first\n",
    "init = tf.initialize_all_variables()"
   ]
  },
  {
   "cell_type": "code",
   "execution_count": 13,
   "metadata": {
    "collapsed": true
   },
   "outputs": [],
   "source": [
    "# Launch the graph\n",
    "sess = tf.Session()\n",
    "sess.run(init) # => 앞에서 초기화한대로 여기서 초기화함!"
   ]
  },
  {
   "cell_type": "code",
   "execution_count": 14,
   "metadata": {
    "collapsed": false
   },
   "outputs": [
    {
     "name": "stdout",
     "output_type": "stream",
     "text": [
      "0 0.243172 [ 0.7046454] [ 1.02084422]\n",
      "20 0.050389 [ 0.73928636] [ 0.59266347]\n",
      "40 0.0190383 [ 0.83974552] [ 0.36429617]\n",
      "60 0.0071932 [ 0.9014954] [ 0.22392422]\n",
      "80 0.00271778 [ 0.93945152] [ 0.13764094]\n",
      "100 0.00102685 [ 0.96278226] [ 0.08460458]\n",
      "120 0.000387974 [ 0.97712314] [ 0.05200445]\n",
      "140 0.000146586 [ 0.98593819] [ 0.03196594]\n",
      "160 5.53834e-05 [ 0.99135649] [ 0.01964871]\n",
      "180 2.09262e-05 [ 0.99468702] [ 0.01207757]\n",
      "200 7.90613e-06 [ 0.9967342] [ 0.00742382]\n",
      "220 2.98713e-06 [ 0.99799263] [ 0.0045632]\n",
      "240 1.12865e-06 [ 0.99876612] [ 0.00280492]\n",
      "260 4.2647e-07 [ 0.99924153] [ 0.0017241]\n",
      "280 1.61162e-07 [ 0.99953383] [ 0.00105977]\n",
      "300 6.08755e-08 [ 0.99971348] [ 0.00065143]\n",
      "320 2.29972e-08 [ 0.99982387] [ 0.00040039]\n",
      "340 8.69587e-09 [ 0.99989176] [ 0.00024612]\n",
      "360 3.28012e-09 [ 0.99993348] [ 0.0001513]\n",
      "380 1.24253e-09 [ 0.99995905] [  9.29923190e-05]\n",
      "400 4.68148e-10 [ 0.99997485] [  5.71897981e-05]\n",
      "420 1.76764e-10 [ 0.99998456] [  3.51758172e-05]\n",
      "440 6.65494e-11 [ 0.99999046] [  2.16177486e-05]\n",
      "460 2.58685e-11 [ 0.99999416] [  1.32969417e-05]\n",
      "480 9.87181e-12 [ 0.99999636] [  8.17888849e-06]\n",
      "500 3.51008e-12 [ 0.99999774] [  5.00792157e-06]\n",
      "520 1.31214e-12 [ 0.99999869] [  3.10852124e-06]\n",
      "540 4.78432e-13 [ 0.99999917] [  1.90848118e-06]\n",
      "560 2.65269e-13 [ 0.99999946] [  1.19322590e-06]\n",
      "580 9.4739e-14 [ 0.99999964] [  7.79967365e-07]\n",
      "600 6.15804e-14 [ 0.9999997] [  6.28969076e-07]\n",
      "620 1.89478e-14 [ 0.99999982] [  4.38234224e-07]\n",
      "640 4.73695e-15 [ 0.99999994] [  2.07762824e-07]\n",
      "660 4.73695e-15 [ 1.] [  6.47116067e-08]\n",
      "680 0.0 [ 1.] [  5.67643212e-08]\n",
      "700 0.0 [ 1.] [  5.67643212e-08]\n",
      "720 0.0 [ 1.] [  5.67643212e-08]\n",
      "740 0.0 [ 1.] [  5.67643212e-08]\n",
      "760 0.0 [ 1.] [  5.67643212e-08]\n",
      "780 0.0 [ 1.] [  5.67643212e-08]\n",
      "800 0.0 [ 1.] [  5.67643212e-08]\n",
      "820 0.0 [ 1.] [  5.67643212e-08]\n",
      "840 0.0 [ 1.] [  5.67643212e-08]\n",
      "860 0.0 [ 1.] [  5.67643212e-08]\n",
      "880 0.0 [ 1.] [  5.67643212e-08]\n",
      "900 0.0 [ 1.] [  5.67643212e-08]\n",
      "920 0.0 [ 1.] [  5.67643212e-08]\n",
      "940 0.0 [ 1.] [  5.67643212e-08]\n",
      "960 0.0 [ 1.] [  5.67643212e-08]\n",
      "980 0.0 [ 1.] [  5.67643212e-08]\n",
      "1000 0.0 [ 1.] [  5.67643212e-08]\n",
      "1020 0.0 [ 1.] [  5.67643212e-08]\n",
      "1040 0.0 [ 1.] [  5.67643212e-08]\n",
      "1060 0.0 [ 1.] [  5.67643212e-08]\n",
      "1080 0.0 [ 1.] [  5.67643212e-08]\n",
      "1100 0.0 [ 1.] [  5.67643212e-08]\n",
      "1120 0.0 [ 1.] [  5.67643212e-08]\n",
      "1140 0.0 [ 1.] [  5.67643212e-08]\n",
      "1160 0.0 [ 1.] [  5.67643212e-08]\n",
      "1180 0.0 [ 1.] [  5.67643212e-08]\n",
      "1200 0.0 [ 1.] [  5.67643212e-08]\n",
      "1220 0.0 [ 1.] [  5.67643212e-08]\n",
      "1240 0.0 [ 1.] [  5.67643212e-08]\n",
      "1260 0.0 [ 1.] [  5.67643212e-08]\n",
      "1280 0.0 [ 1.] [  5.67643212e-08]\n",
      "1300 0.0 [ 1.] [  5.67643212e-08]\n",
      "1320 0.0 [ 1.] [  5.67643212e-08]\n",
      "1340 0.0 [ 1.] [  5.67643212e-08]\n",
      "1360 0.0 [ 1.] [  5.67643212e-08]\n",
      "1380 0.0 [ 1.] [  5.67643212e-08]\n",
      "1400 0.0 [ 1.] [  5.67643212e-08]\n",
      "1420 0.0 [ 1.] [  5.67643212e-08]\n",
      "1440 0.0 [ 1.] [  5.67643212e-08]\n",
      "1460 0.0 [ 1.] [  5.67643212e-08]\n",
      "1480 0.0 [ 1.] [  5.67643212e-08]\n",
      "1500 0.0 [ 1.] [  5.67643212e-08]\n",
      "1520 0.0 [ 1.] [  5.67643212e-08]\n",
      "1540 0.0 [ 1.] [  5.67643212e-08]\n",
      "1560 0.0 [ 1.] [  5.67643212e-08]\n",
      "1580 0.0 [ 1.] [  5.67643212e-08]\n",
      "1600 0.0 [ 1.] [  5.67643212e-08]\n",
      "1620 0.0 [ 1.] [  5.67643212e-08]\n",
      "1640 0.0 [ 1.] [  5.67643212e-08]\n",
      "1660 0.0 [ 1.] [  5.67643212e-08]\n",
      "1680 0.0 [ 1.] [  5.67643212e-08]\n",
      "1700 0.0 [ 1.] [  5.67643212e-08]\n",
      "1720 0.0 [ 1.] [  5.67643212e-08]\n",
      "1740 0.0 [ 1.] [  5.67643212e-08]\n",
      "1760 0.0 [ 1.] [  5.67643212e-08]\n",
      "1780 0.0 [ 1.] [  5.67643212e-08]\n",
      "1800 0.0 [ 1.] [  5.67643212e-08]\n",
      "1820 0.0 [ 1.] [  5.67643212e-08]\n",
      "1840 0.0 [ 1.] [  5.67643212e-08]\n",
      "1860 0.0 [ 1.] [  5.67643212e-08]\n",
      "1880 0.0 [ 1.] [  5.67643212e-08]\n",
      "1900 0.0 [ 1.] [  5.67643212e-08]\n",
      "1920 0.0 [ 1.] [  5.67643212e-08]\n",
      "1940 0.0 [ 1.] [  5.67643212e-08]\n",
      "1960 0.0 [ 1.] [  5.67643212e-08]\n",
      "1980 0.0 [ 1.] [  5.67643212e-08]\n",
      "2000 0.0 [ 1.] [  5.67643212e-08]\n"
     ]
    }
   ],
   "source": [
    "# Fit the line\n",
    "for step in xrange(2001):\n",
    "    sess.run(train)\n",
    "    if step % 20==0:\n",
    "        print step, sess.run(cost), sess.run(W), sess.run(b)"
   ]
  },
  {
   "cell_type": "code",
   "execution_count": null,
   "metadata": {
    "collapsed": true
   },
   "outputs": [],
   "source": []
  },
  {
   "cell_type": "markdown",
   "metadata": {},
   "source": [
    "## 2_linearPlaceHolder.py"
   ]
  },
  {
   "cell_type": "markdown",
   "metadata": {
    "collapsed": true
   },
   "source": [
    "- 위에꺼 Placeholder로 표현\n",
    "- 이유 : 가지고 있는 모델을 재활용."
   ]
  },
  {
   "cell_type": "code",
   "execution_count": 59,
   "metadata": {
    "collapsed": true
   },
   "outputs": [],
   "source": [
    "# train data\n",
    "x_data=[1,2,3]\n",
    "y_data=[1,2,3]"
   ]
  },
  {
   "cell_type": "code",
   "execution_count": 60,
   "metadata": {
    "collapsed": true
   },
   "outputs": [],
   "source": [
    "W = tf.Variable(tf.random_uniform([1], -1.0, 1.0)) \n",
    "b = tf.Variable(tf.random_uniform([1], -1.0, 1.0))"
   ]
  },
  {
   "cell_type": "code",
   "execution_count": 61,
   "metadata": {
    "collapsed": true
   },
   "outputs": [],
   "source": [
    "X= tf.placeholder(tf.float32)\n",
    "Y= tf.placeholder(tf.float32)\n",
    "# => 아직 X, Y가 뭔지 정해지지는 않았음. 실행할떄 정해짐!"
   ]
  },
  {
   "cell_type": "code",
   "execution_count": 62,
   "metadata": {
    "collapsed": true
   },
   "outputs": [],
   "source": [
    "# Our Hypothesis\n",
    "hypothesis = W * X + b"
   ]
  },
  {
   "cell_type": "code",
   "execution_count": 63,
   "metadata": {
    "collapsed": true
   },
   "outputs": [],
   "source": [
    "# Simplified cost function\n",
    "cost = tf.reduce_mean(tf.square(hypothesis - y_data))"
   ]
  },
  {
   "cell_type": "code",
   "execution_count": 64,
   "metadata": {
    "collapsed": false
   },
   "outputs": [],
   "source": [
    "# Minimize\n",
    "a = tf.Variable(0.1) # Learning rate, alpha\n",
    "optimizer = tf.train.GradientDescentOptimizer(a) #Gradient Descent Algorithm\n",
    "train = optimizer.minimize(cost)"
   ]
  },
  {
   "cell_type": "code",
   "execution_count": 65,
   "metadata": {
    "collapsed": true
   },
   "outputs": [],
   "source": [
    "# Before starting, initialize the variables. We will 'run' this first\n",
    "init = tf.initialize_all_variables()"
   ]
  },
  {
   "cell_type": "code",
   "execution_count": 66,
   "metadata": {
    "collapsed": true
   },
   "outputs": [],
   "source": [
    "# Launch the graph\n",
    "sess = tf.Session()\n",
    "sess.run(init)"
   ]
  },
  {
   "cell_type": "code",
   "execution_count": 67,
   "metadata": {
    "collapsed": false
   },
   "outputs": [
    {
     "name": "stdout",
     "output_type": "stream",
     "text": [
      "0 0.201549 [ 1.15315378] [ 0.12486672]\n",
      "20 0.000125778 [ 0.98697442] [ 0.02961024]\n",
      "40 4.75219e-05 [ 0.99199343] [ 0.01820067]\n",
      "60 1.79552e-05 [ 0.99507856] [ 0.01118755]\n",
      "80 6.78355e-06 [ 0.996975] [ 0.0068767]\n",
      "100 2.56306e-06 [ 0.99814051] [ 0.00422691]\n",
      "120 9.6835e-07 [ 0.99885708] [ 0.00259823]\n",
      "140 3.65901e-07 [ 0.9992975] [ 0.00159706]\n",
      "160 1.38265e-07 [ 0.99956816] [ 0.00098167]\n",
      "180 5.2224e-08 [ 0.99973452] [ 0.00060341]\n",
      "200 1.9734e-08 [ 0.99983686] [ 0.00037089]\n",
      "220 7.45826e-09 [ 0.99989969] [ 0.00022798]\n",
      "240 2.82238e-09 [ 0.99993837] [ 0.00014016]\n",
      "260 1.06697e-09 [ 0.99996209] [  8.61559238e-05]\n",
      "280 4.03025e-10 [ 0.99997669] [  5.29998397e-05]\n",
      "300 1.51398e-10 [ 0.99998569] [  3.25912079e-05]\n",
      "320 5.75634e-11 [ 0.99999118] [  2.00662835e-05]\n",
      "340 2.14679e-11 [ 0.99999458] [  1.23335731e-05]\n",
      "360 8.33704e-12 [ 0.99999666] [  7.62083255e-06]\n",
      "380 3.14534e-12 [ 0.99999797] [  4.70417899e-06]\n",
      "400 1.3074e-12 [ 0.99999875] [  2.87630360e-06]\n",
      "420 4.73695e-13 [ 0.99999917] [  1.74778893e-06]\n",
      "440 1.56319e-13 [ 0.99999952] [  1.12790121e-06]\n",
      "460 6.15804e-14 [ 0.99999964] [  7.46431795e-07]\n",
      "480 6.15804e-14 [ 0.9999997] [  6.03380784e-07]\n",
      "500 1.89478e-14 [ 0.99999982] [  3.88804011e-07]\n",
      "520 4.73695e-15 [ 0.99999994] [  1.90121781e-07]\n",
      "540 0.0 [ 1.] [  5.50178711e-08]\n",
      "560 0.0 [ 1.] [  5.50178711e-08]\n",
      "580 0.0 [ 1.] [  5.50178711e-08]\n",
      "600 0.0 [ 1.] [  5.50178711e-08]\n",
      "620 0.0 [ 1.] [  5.50178711e-08]\n",
      "640 0.0 [ 1.] [  5.50178711e-08]\n",
      "660 0.0 [ 1.] [  5.50178711e-08]\n",
      "680 0.0 [ 1.] [  5.50178711e-08]\n",
      "700 0.0 [ 1.] [  5.50178711e-08]\n",
      "720 0.0 [ 1.] [  5.50178711e-08]\n",
      "740 0.0 [ 1.] [  5.50178711e-08]\n",
      "760 0.0 [ 1.] [  5.50178711e-08]\n",
      "780 0.0 [ 1.] [  5.50178711e-08]\n",
      "800 0.0 [ 1.] [  5.50178711e-08]\n",
      "820 0.0 [ 1.] [  5.50178711e-08]\n",
      "840 0.0 [ 1.] [  5.50178711e-08]\n",
      "860 0.0 [ 1.] [  5.50178711e-08]\n",
      "880 0.0 [ 1.] [  5.50178711e-08]\n",
      "900 0.0 [ 1.] [  5.50178711e-08]\n",
      "920 0.0 [ 1.] [  5.50178711e-08]\n",
      "940 0.0 [ 1.] [  5.50178711e-08]\n",
      "960 0.0 [ 1.] [  5.50178711e-08]\n",
      "980 0.0 [ 1.] [  5.50178711e-08]\n",
      "1000 0.0 [ 1.] [  5.50178711e-08]\n",
      "1020 0.0 [ 1.] [  5.50178711e-08]\n",
      "1040 0.0 [ 1.] [  5.50178711e-08]\n",
      "1060 0.0 [ 1.] [  5.50178711e-08]\n",
      "1080 0.0 [ 1.] [  5.50178711e-08]\n",
      "1100 0.0 [ 1.] [  5.50178711e-08]\n",
      "1120 0.0 [ 1.] [  5.50178711e-08]\n",
      "1140 0.0 [ 1.] [  5.50178711e-08]\n",
      "1160 0.0 [ 1.] [  5.50178711e-08]\n",
      "1180 0.0 [ 1.] [  5.50178711e-08]\n",
      "1200 0.0 [ 1.] [  5.50178711e-08]\n",
      "1220 0.0 [ 1.] [  5.50178711e-08]\n",
      "1240 0.0 [ 1.] [  5.50178711e-08]\n",
      "1260 0.0 [ 1.] [  5.50178711e-08]\n",
      "1280 0.0 [ 1.] [  5.50178711e-08]\n",
      "1300 0.0 [ 1.] [  5.50178711e-08]\n",
      "1320 0.0 [ 1.] [  5.50178711e-08]\n",
      "1340 0.0 [ 1.] [  5.50178711e-08]\n",
      "1360 0.0 [ 1.] [  5.50178711e-08]\n",
      "1380 0.0 [ 1.] [  5.50178711e-08]\n",
      "1400 0.0 [ 1.] [  5.50178711e-08]\n",
      "1420 0.0 [ 1.] [  5.50178711e-08]\n",
      "1440 0.0 [ 1.] [  5.50178711e-08]\n",
      "1460 0.0 [ 1.] [  5.50178711e-08]\n",
      "1480 0.0 [ 1.] [  5.50178711e-08]\n",
      "1500 0.0 [ 1.] [  5.50178711e-08]\n",
      "1520 0.0 [ 1.] [  5.50178711e-08]\n",
      "1540 0.0 [ 1.] [  5.50178711e-08]\n",
      "1560 0.0 [ 1.] [  5.50178711e-08]\n",
      "1580 0.0 [ 1.] [  5.50178711e-08]\n",
      "1600 0.0 [ 1.] [  5.50178711e-08]\n",
      "1620 0.0 [ 1.] [  5.50178711e-08]\n",
      "1640 0.0 [ 1.] [  5.50178711e-08]\n",
      "1660 0.0 [ 1.] [  5.50178711e-08]\n",
      "1680 0.0 [ 1.] [  5.50178711e-08]\n",
      "1700 0.0 [ 1.] [  5.50178711e-08]\n",
      "1720 0.0 [ 1.] [  5.50178711e-08]\n",
      "1740 0.0 [ 1.] [  5.50178711e-08]\n",
      "1760 0.0 [ 1.] [  5.50178711e-08]\n",
      "1780 0.0 [ 1.] [  5.50178711e-08]\n",
      "1800 0.0 [ 1.] [  5.50178711e-08]\n",
      "1820 0.0 [ 1.] [  5.50178711e-08]\n",
      "1840 0.0 [ 1.] [  5.50178711e-08]\n",
      "1860 0.0 [ 1.] [  5.50178711e-08]\n",
      "1880 0.0 [ 1.] [  5.50178711e-08]\n",
      "1900 0.0 [ 1.] [  5.50178711e-08]\n",
      "1920 0.0 [ 1.] [  5.50178711e-08]\n",
      "1940 0.0 [ 1.] [  5.50178711e-08]\n",
      "1960 0.0 [ 1.] [  5.50178711e-08]\n",
      "1980 0.0 [ 1.] [  5.50178711e-08]\n",
      "2000 0.0 [ 1.] [  5.50178711e-08]\n"
     ]
    }
   ],
   "source": [
    "#Fit the line\n",
    "for step in xrange(2001):\n",
    "    sess.run(train, feed_dict={X:x_data, Y:y_data})\n",
    "    if step%20==0:\n",
    "        print step, sess.run(cost, feed_dict={X:x_data, Y:y_data}), sess.run(W), sess.run(b)"
   ]
  },
  {
   "cell_type": "markdown",
   "metadata": {},
   "source": [
    "- 바로 위의 코드로 학습됨 -> 즉, W,b의 값을 찾음 (W:[1], b:[0])\n",
    "- 플레이스홀더를 이용했기 때문에 이 모델에 특정값을 입력하여 값을 찾을 수 있음."
   ]
  },
  {
   "cell_type": "code",
   "execution_count": 68,
   "metadata": {
    "collapsed": false
   },
   "outputs": [
    {
     "name": "stdout",
     "output_type": "stream",
     "text": [
      "[ 5.]\n",
      "[ 2.5]\n"
     ]
    }
   ],
   "source": [
    "# Learns best fit is W:[1], b:[0]\n",
    "print sess.run(hypothesis, feed_dict={X:5})\n",
    "print sess.run(hypothesis, feed_dict={X:2.5})"
   ]
  },
  {
   "cell_type": "code",
   "execution_count": null,
   "metadata": {
    "collapsed": true
   },
   "outputs": [],
   "source": []
  },
  {
   "cell_type": "code",
   "execution_count": null,
   "metadata": {
    "collapsed": true
   },
   "outputs": [],
   "source": []
  },
  {
   "cell_type": "code",
   "execution_count": null,
   "metadata": {
    "collapsed": true
   },
   "outputs": [],
   "source": []
  },
  {
   "cell_type": "markdown",
   "metadata": {},
   "source": [
    "#3. Cost"
   ]
  },
  {
   "cell_type": "markdown",
   "metadata": {},
   "source": [
    "## 1_linearCost.py"
   ]
  },
  {
   "cell_type": "markdown",
   "metadata": {},
   "source": [
    "### i) Cost func 시각화"
   ]
  },
  {
   "cell_type": "code",
   "execution_count": 69,
   "metadata": {
    "collapsed": false
   },
   "outputs": [],
   "source": [
    "import tensorflow as tf"
   ]
  },
  {
   "cell_type": "code",
   "execution_count": 70,
   "metadata": {
    "collapsed": true
   },
   "outputs": [],
   "source": [
    "# tf Graph Input\n",
    "X = [1.,2.,3.]\n",
    "Y = [1.,2.,3.]\n",
    "m = n_samples = len(X) "
   ]
  },
  {
   "cell_type": "code",
   "execution_count": 71,
   "metadata": {
    "collapsed": false
   },
   "outputs": [],
   "source": [
    "# Set model weights\n",
    "W = tf.placeholder(tf.float32)"
   ]
  },
  {
   "cell_type": "markdown",
   "metadata": {},
   "source": [
    "<img src=\"img/3_1.png\"/>"
   ]
  },
  {
   "cell_type": "code",
   "execution_count": 72,
   "metadata": {
    "collapsed": false
   },
   "outputs": [],
   "source": [
    "# Construct a linear model\n",
    "hypothesis = tf.mul(X, W)"
   ]
  },
  {
   "cell_type": "markdown",
   "metadata": {},
   "source": [
    "<img src=\"img/2_2.png\"/>"
   ]
  },
  {
   "cell_type": "code",
   "execution_count": 73,
   "metadata": {
    "collapsed": true
   },
   "outputs": [],
   "source": [
    "# Cost function\n",
    "cost = tf.reduce_sum(tf.pow(hypothesis - Y, 2))/(m)"
   ]
  },
  {
   "cell_type": "code",
   "execution_count": 74,
   "metadata": {
    "collapsed": true
   },
   "outputs": [],
   "source": [
    "# Initializing the variables\n",
    "init = tf.initialize_all_variables()"
   ]
  },
  {
   "cell_type": "code",
   "execution_count": 75,
   "metadata": {
    "collapsed": true
   },
   "outputs": [],
   "source": [
    "# For graphs\n",
    "W_val = []\n",
    "cost_val = []"
   ]
  },
  {
   "cell_type": "code",
   "execution_count": 76,
   "metadata": {
    "collapsed": false,
    "scrolled": true
   },
   "outputs": [
    {
     "name": "stdout",
     "output_type": "stream",
     "text": [
      "-3.0 74.6667\n",
      "-2.9 70.98\n",
      "-2.8 67.3867\n",
      "-2.7 63.8867\n",
      "-2.6 60.48\n",
      "-2.5 57.1667\n",
      "-2.4 53.9467\n",
      "-2.3 50.82\n",
      "-2.2 47.7867\n",
      "-2.1 44.8467\n",
      "-2.0 42.0\n",
      "-1.9 39.2467\n",
      "-1.8 36.5867\n",
      "-1.7 34.02\n",
      "-1.6 31.5467\n",
      "-1.5 29.1667\n",
      "-1.4 26.88\n",
      "-1.3 24.6867\n",
      "-1.2 22.5867\n",
      "-1.1 20.58\n",
      "-1.0 18.6667\n",
      "-0.9 16.8467\n",
      "-0.8 15.12\n",
      "-0.7 13.4867\n",
      "-0.6 11.9467\n",
      "-0.5 10.5\n",
      "-0.4 9.14667\n",
      "-0.3 7.88667\n",
      "-0.2 6.72\n",
      "-0.1 5.64667\n",
      "0.0 4.66667\n",
      "0.1 3.78\n",
      "0.2 2.98667\n",
      "0.3 2.28667\n",
      "0.4 1.68\n",
      "0.5 1.16667\n",
      "0.6 0.746667\n",
      "0.7 0.42\n",
      "0.8 0.186667\n",
      "0.9 0.0466667\n",
      "1.0 0.0\n",
      "1.1 0.0466667\n",
      "1.2 0.186667\n",
      "1.3 0.42\n",
      "1.4 0.746666\n",
      "1.5 1.16667\n",
      "1.6 1.68\n",
      "1.7 2.28667\n",
      "1.8 2.98667\n",
      "1.9 3.78\n",
      "2.0 4.66667\n",
      "2.1 5.64667\n",
      "2.2 6.72\n",
      "2.3 7.88667\n",
      "2.4 9.14667\n",
      "2.5 10.5\n",
      "2.6 11.9467\n",
      "2.7 13.4867\n",
      "2.8 15.12\n",
      "2.9 16.8467\n",
      "3.0 18.6667\n",
      "3.1 20.58\n",
      "3.2 22.5867\n",
      "3.3 24.6867\n",
      "3.4 26.88\n",
      "3.5 29.1667\n",
      "3.6 31.5467\n",
      "3.7 34.02\n",
      "3.8 36.5867\n",
      "3.9 39.2467\n",
      "4.0 42.0\n",
      "4.1 44.8467\n",
      "4.2 47.7867\n",
      "4.3 50.82\n",
      "4.4 53.9467\n",
      "4.5 57.1667\n",
      "4.6 60.48\n",
      "4.7 63.8867\n",
      "4.8 67.3867\n",
      "4.9 70.98\n"
     ]
    }
   ],
   "source": [
    "# Launch the graph\n",
    "sess = tf.Session()\n",
    "sess.run(init)\n",
    "for i in range(-30,50):\n",
    "    print i*0.1, sess.run(cost, feed_dict={W: i*0.1})\n",
    "    W_val.append(i*0.1)\n",
    "    cost_val.append(sess.run(cost, feed_dict={W: i*0.1}))"
   ]
  },
  {
   "cell_type": "code",
   "execution_count": 79,
   "metadata": {
    "collapsed": true
   },
   "outputs": [],
   "source": [
    "# Graphic display\n",
    "import matplotlib.pyplot as plt\n",
    "%matplotlib inline"
   ]
  },
  {
   "cell_type": "code",
   "execution_count": 82,
   "metadata": {
    "collapsed": false
   },
   "outputs": [
    {
     "data": {
      "image/png": "[encoded data removed]",
      "text/plain": [
       "<matplotlib.figure.Figure at 0x10b613cd0>"
      ]
     },
     "metadata": {},
     "output_type": "display_data"
    }
   ],
   "source": [
    "plt.plot(W_val, cost_val, 'ro')\n",
    "plt.ylabel('cost')\n",
    "plt.xlabel('W')\n",
    "plt.show()"
   ]
  },
  {
   "cell_type": "markdown",
   "metadata": {},
   "source": [
    "- W가 1일때, 최소값을 가짐 \n",
    "- Convex func => __GDA 적용하기 좋은 형태!__"
   ]
  },
  {
   "cell_type": "markdown",
   "metadata": {
    "collapsed": true
   },
   "source": [
    "### ii) Gradient Descent Algorithm"
   ]
  },
  {
   "cell_type": "code",
   "execution_count": 83,
   "metadata": {
    "collapsed": true
   },
   "outputs": [],
   "source": [
    "x_data = [1.,2.,3.]\n",
    "y_data = [1.,2.,3.]"
   ]
  },
  {
   "cell_type": "code",
   "execution_count": 84,
   "metadata": {
    "collapsed": true
   },
   "outputs": [],
   "source": [
    "W = tf.Variable(tf.random_uniform([1], -10.0, 10.0))"
   ]
  },
  {
   "cell_type": "code",
   "execution_count": 85,
   "metadata": {
    "collapsed": true
   },
   "outputs": [],
   "source": [
    "X = tf.placeholder(tf.float32)\n",
    "Y = tf.placeholder(tf.float32)"
   ]
  },
  {
   "cell_type": "code",
   "execution_count": 86,
   "metadata": {
    "collapsed": true
   },
   "outputs": [],
   "source": [
    "# Our hypothesis\n",
    "hypothesis = W * X"
   ]
  },
  {
   "cell_type": "code",
   "execution_count": 92,
   "metadata": {
    "collapsed": true
   },
   "outputs": [],
   "source": [
    "# Simplified cost function\n",
    "cost = tf.reduce_mean(tf.square(hypothesis - Y))"
   ]
  },
  {
   "cell_type": "markdown",
   "metadata": {},
   "source": [
    "<img src=\"img/3_2.png\"/>"
   ]
  },
  {
   "cell_type": "code",
   "execution_count": 97,
   "metadata": {
    "collapsed": true
   },
   "outputs": [],
   "source": [
    "# Minimize\n",
    "descent = W - tf.mul(0.1, tf.reduce_mean(tf.mul((tf.mul(W,X)-Y),X)))\n",
    "update = W.assign(descent) # -> W에 새로운 값 descent 할당하여 update에 넣음.\n",
    "# => 여기서 기능만 정의하고 뒤에 run할때 update를 실행"
   ]
  },
  {
   "cell_type": "code",
   "execution_count": 89,
   "metadata": {
    "collapsed": true
   },
   "outputs": [],
   "source": [
    "# Before starting, initialize the variables. We will 'run' this first.\n",
    "init = tf.initialize_all_variables()"
   ]
  },
  {
   "cell_type": "code",
   "execution_count": 90,
   "metadata": {
    "collapsed": true
   },
   "outputs": [],
   "source": [
    "# Launch the graph.\n",
    "sess = tf.Session()\n",
    "sess.run(init)"
   ]
  },
  {
   "cell_type": "code",
   "execution_count": 95,
   "metadata": {
    "collapsed": false
   },
   "outputs": [
    {
     "name": "stdout",
     "output_type": "stream",
     "text": [
      "0 0.0 [ 1.]\n",
      "1 0.0 [ 1.]\n",
      "2 0.0 [ 1.]\n",
      "3 0.0 [ 1.]\n",
      "4 0.0 [ 1.]\n",
      "5 0.0 [ 1.]\n",
      "6 0.0 [ 1.]\n",
      "7 0.0 [ 1.]\n",
      "8 0.0 [ 1.]\n",
      "9 0.0 [ 1.]\n",
      "10 0.0 [ 1.]\n",
      "11 0.0 [ 1.]\n",
      "12 0.0 [ 1.]\n",
      "13 0.0 [ 1.]\n",
      "14 0.0 [ 1.]\n",
      "15 0.0 [ 1.]\n",
      "16 0.0 [ 1.]\n",
      "17 0.0 [ 1.]\n",
      "18 0.0 [ 1.]\n",
      "19 0.0 [ 1.]\n",
      "20 0.0 [ 1.]\n",
      "21 0.0 [ 1.]\n",
      "22 0.0 [ 1.]\n",
      "23 0.0 [ 1.]\n",
      "24 0.0 [ 1.]\n",
      "25 0.0 [ 1.]\n",
      "26 0.0 [ 1.]\n",
      "27 0.0 [ 1.]\n",
      "28 0.0 [ 1.]\n",
      "29 0.0 [ 1.]\n",
      "30 0.0 [ 1.]\n",
      "31 0.0 [ 1.]\n",
      "32 0.0 [ 1.]\n",
      "33 0.0 [ 1.]\n",
      "34 0.0 [ 1.]\n",
      "35 0.0 [ 1.]\n",
      "36 0.0 [ 1.]\n",
      "37 0.0 [ 1.]\n",
      "38 0.0 [ 1.]\n",
      "39 0.0 [ 1.]\n"
     ]
    }
   ],
   "source": [
    "# Fit the line\n",
    "for step in xrange(40):\n",
    "    sess.run(update, feed_dict={X:x_data, Y:y_data})\n",
    "    print step, sess.run(cost, feed_dict={X:x_data, Y:y_data}), sess.run(W)"
   ]
  },
  {
   "cell_type": "code",
   "execution_count": null,
   "metadata": {
    "collapsed": true
   },
   "outputs": [],
   "source": []
  },
  {
   "cell_type": "markdown",
   "metadata": {},
   "source": [
    "## 2_cost.py"
   ]
  },
  {
   "cell_type": "markdown",
   "metadata": {},
   "source": [
    "## 3_costMin.py"
   ]
  },
  {
   "cell_type": "code",
   "execution_count": 96,
   "metadata": {
    "collapsed": true
   },
   "outputs": [],
   "source": []
  },
  {
   "cell_type": "markdown",
   "metadata": {
    "collapsed": true
   },
   "source": [
    "4_multi-variable linear regression"
   ]
  },
  {
   "cell_type": "markdown",
   "metadata": {
    "collapsed": true
   },
   "source": [
    "### i) 일반적인 방법"
   ]
  },
  {
   "cell_type": "markdown",
   "metadata": {},
   "source": [
    "<img src=\"img/4_1.png\"/>"
   ]
  },
  {
   "cell_type": "code",
   "execution_count": 100,
   "metadata": {
    "collapsed": true
   },
   "outputs": [],
   "source": [
    "#train data\n",
    "x1_data = [1,0,3,0,5]\n",
    "x2_data = [0,2,0,4,0]\n",
    "y_data = [1,2,3,4,5]"
   ]
  },
  {
   "cell_type": "code",
   "execution_count": 98,
   "metadata": {
    "collapsed": true
   },
   "outputs": [],
   "source": [
    "# try to find values for W and b that compute y_data = W1 * x1_data+ W2 * x2_data+ b\n",
    "# (We know that W=1, b=0, but tf will figure that out for us.)\n",
    "W1 = tf.Variable(tf.random_uniform([1], -1.0, 1.0))\n",
    "W2 = tf.Variable(tf.random_uniform([1], -1.0, 1.0))"
   ]
  },
  {
   "cell_type": "code",
   "execution_count": 99,
   "metadata": {
    "collapsed": true
   },
   "outputs": [],
   "source": [
    "b = tf.Variable(tf.random_uniform([1], -1.0, 1.0))"
   ]
  },
  {
   "cell_type": "code",
   "execution_count": 101,
   "metadata": {
    "collapsed": true
   },
   "outputs": [],
   "source": [
    "# Out hypothesis\n",
    "hypothesis = W1 * x1_data + W2 * x2_data + b"
   ]
  },
  {
   "cell_type": "code",
   "execution_count": 102,
   "metadata": {
    "collapsed": true
   },
   "outputs": [],
   "source": [
    "# Simplified cost function\n",
    "cost = tf.reduce_mean(tf.square(hypothesis - y_data))"
   ]
  },
  {
   "cell_type": "code",
   "execution_count": 103,
   "metadata": {
    "collapsed": true
   },
   "outputs": [],
   "source": [
    "# Minimize\n",
    "a = tf.Variable(0.1) # Learning rate, Alpha\n",
    "optimizer = tf.train.GradientDescentOptimizer(a)\n",
    "train = optimizer.minimize(cost)"
   ]
  },
  {
   "cell_type": "code",
   "execution_count": 104,
   "metadata": {
    "collapsed": true
   },
   "outputs": [],
   "source": [
    "#Before starting, initialize the variables. We will 'run' this first.\n",
    "init = tf.initialize_all_variables()"
   ]
  },
  {
   "cell_type": "code",
   "execution_count": 105,
   "metadata": {
    "collapsed": true
   },
   "outputs": [],
   "source": [
    "# Launch the graph.\n",
    "sess = tf.Session()\n",
    "sess.run(init)"
   ]
  },
  {
   "cell_type": "code",
   "execution_count": 106,
   "metadata": {
    "collapsed": false,
    "scrolled": true
   },
   "outputs": [
    {
     "name": "stdout",
     "output_type": "stream",
     "text": [
      "0 2.58822 [ 1.6212703] [ 1.09930623] [-0.06347299]\n",
      "20 0.00251613 [ 1.03125966] [ 1.03708863] [-0.11891348]\n",
      "40 0.000728525 [ 1.01682019] [ 1.01995707] [-0.06398637]\n",
      "60 0.000210939 [ 1.00905085] [ 1.01073873] [-0.0344305]\n",
      "80 6.10764e-05 [ 1.00487006] [ 1.00577843] [-0.01852677]\n",
      "100 1.76844e-05 [ 1.0026207] [ 1.00310934] [-0.00996897]\n",
      "120 5.11988e-06 [ 1.00141013] [ 1.0016731] [-0.00536425]\n",
      "140 1.48251e-06 [ 1.00075877] [ 1.00090027] [-0.00288642]\n",
      "160 4.2919e-07 [ 1.00040829] [ 1.00048447] [-0.00155312]\n",
      "180 1.24257e-07 [ 1.0002197] [ 1.00026071] [-0.0008357]\n",
      "200 3.59984e-08 [ 1.00011826] [ 1.00014031] [-0.00044973]\n",
      "220 1.04212e-08 [ 1.00006354] [ 1.00007546] [-0.00024195]\n",
      "240 3.01915e-09 [ 1.00003421] [ 1.00004065] [-0.00013019]\n",
      "260 8.75617e-10 [ 1.00001848] [ 1.00002193] [ -7.00522651e-05]\n",
      "280 2.53124e-10 [ 1.00001001] [ 1.0000118] [ -3.76630996e-05]\n",
      "300 7.22913e-11 [ 1.00000536] [ 1.00000632] [ -2.03300679e-05]\n",
      "320 2.16239e-11 [ 1.00000286] [ 1.00000346] [ -1.10055162e-05]\n",
      "340 6.51212e-12 [ 1.00000143] [ 1.00000191] [ -5.87951672e-06]\n",
      "360 1.8332e-12 [ 1.00000083] [ 1.00000107] [ -3.19015521e-06]\n",
      "380 4.3201e-13 [ 1.00000048] [ 1.0000006] [ -1.68573354e-06]\n",
      "400 2.76401e-13 [ 1.00000024] [ 1.00000036] [ -1.10876056e-06]\n",
      "420 9.37916e-14 [ 1.00000012] [ 1.00000024] [ -5.79471362e-07]\n",
      "440 2.06057e-14 [ 1.00000012] [ 1.00000012] [ -3.17210947e-07]\n",
      "460 2.06057e-14 [ 1.00000012] [ 1.00000012] [ -2.98137479e-07]\n",
      "480 2.06057e-14 [ 1.00000012] [ 1.00000012] [ -2.98137479e-07]\n",
      "500 2.06057e-14 [ 1.00000012] [ 1.00000012] [ -2.98137479e-07]\n",
      "520 2.06057e-14 [ 1.00000012] [ 1.00000012] [ -2.98137479e-07]\n",
      "540 2.06057e-14 [ 1.00000012] [ 1.00000012] [ -2.98137479e-07]\n",
      "560 2.06057e-14 [ 1.00000012] [ 1.00000012] [ -2.98137479e-07]\n",
      "580 2.06057e-14 [ 1.00000012] [ 1.00000012] [ -2.98137479e-07]\n",
      "600 2.06057e-14 [ 1.00000012] [ 1.00000012] [ -2.98137479e-07]\n",
      "620 2.06057e-14 [ 1.00000012] [ 1.00000012] [ -2.98137479e-07]\n",
      "640 2.06057e-14 [ 1.00000012] [ 1.00000012] [ -2.98137479e-07]\n",
      "660 2.06057e-14 [ 1.00000012] [ 1.00000012] [ -2.98137479e-07]\n",
      "680 2.06057e-14 [ 1.00000012] [ 1.00000012] [ -2.98137479e-07]\n",
      "700 2.06057e-14 [ 1.00000012] [ 1.00000012] [ -2.98137479e-07]\n",
      "720 2.06057e-14 [ 1.00000012] [ 1.00000012] [ -2.98137479e-07]\n",
      "740 2.06057e-14 [ 1.00000012] [ 1.00000012] [ -2.98137479e-07]\n",
      "760 2.06057e-14 [ 1.00000012] [ 1.00000012] [ -2.98137479e-07]\n",
      "780 2.06057e-14 [ 1.00000012] [ 1.00000012] [ -2.98137479e-07]\n",
      "800 2.06057e-14 [ 1.00000012] [ 1.00000012] [ -2.98137479e-07]\n",
      "820 2.06057e-14 [ 1.00000012] [ 1.00000012] [ -2.98137479e-07]\n",
      "840 2.06057e-14 [ 1.00000012] [ 1.00000012] [ -2.98137479e-07]\n",
      "860 2.06057e-14 [ 1.00000012] [ 1.00000012] [ -2.98137479e-07]\n",
      "880 2.06057e-14 [ 1.00000012] [ 1.00000012] [ -2.98137479e-07]\n",
      "900 2.06057e-14 [ 1.00000012] [ 1.00000012] [ -2.98137479e-07]\n",
      "920 2.06057e-14 [ 1.00000012] [ 1.00000012] [ -2.98137479e-07]\n",
      "940 2.06057e-14 [ 1.00000012] [ 1.00000012] [ -2.98137479e-07]\n",
      "960 2.06057e-14 [ 1.00000012] [ 1.00000012] [ -2.98137479e-07]\n",
      "980 2.06057e-14 [ 1.00000012] [ 1.00000012] [ -2.98137479e-07]\n",
      "1000 2.06057e-14 [ 1.00000012] [ 1.00000012] [ -2.98137479e-07]\n",
      "1020 2.06057e-14 [ 1.00000012] [ 1.00000012] [ -2.98137479e-07]\n",
      "1040 2.06057e-14 [ 1.00000012] [ 1.00000012] [ -2.98137479e-07]\n",
      "1060 2.06057e-14 [ 1.00000012] [ 1.00000012] [ -2.98137479e-07]\n",
      "1080 2.06057e-14 [ 1.00000012] [ 1.00000012] [ -2.98137479e-07]\n",
      "1100 2.06057e-14 [ 1.00000012] [ 1.00000012] [ -2.98137479e-07]\n",
      "1120 2.06057e-14 [ 1.00000012] [ 1.00000012] [ -2.98137479e-07]\n",
      "1140 2.06057e-14 [ 1.00000012] [ 1.00000012] [ -2.98137479e-07]\n",
      "1160 2.06057e-14 [ 1.00000012] [ 1.00000012] [ -2.98137479e-07]\n",
      "1180 2.06057e-14 [ 1.00000012] [ 1.00000012] [ -2.98137479e-07]\n",
      "1200 2.06057e-14 [ 1.00000012] [ 1.00000012] [ -2.98137479e-07]\n",
      "1220 2.06057e-14 [ 1.00000012] [ 1.00000012] [ -2.98137479e-07]\n",
      "1240 2.06057e-14 [ 1.00000012] [ 1.00000012] [ -2.98137479e-07]\n",
      "1260 2.06057e-14 [ 1.00000012] [ 1.00000012] [ -2.98137479e-07]\n",
      "1280 2.06057e-14 [ 1.00000012] [ 1.00000012] [ -2.98137479e-07]\n",
      "1300 2.06057e-14 [ 1.00000012] [ 1.00000012] [ -2.98137479e-07]\n",
      "1320 2.06057e-14 [ 1.00000012] [ 1.00000012] [ -2.98137479e-07]\n",
      "1340 2.06057e-14 [ 1.00000012] [ 1.00000012] [ -2.98137479e-07]\n",
      "1360 2.06057e-14 [ 1.00000012] [ 1.00000012] [ -2.98137479e-07]\n",
      "1380 2.06057e-14 [ 1.00000012] [ 1.00000012] [ -2.98137479e-07]\n",
      "1400 2.06057e-14 [ 1.00000012] [ 1.00000012] [ -2.98137479e-07]\n",
      "1420 2.06057e-14 [ 1.00000012] [ 1.00000012] [ -2.98137479e-07]\n",
      "1440 2.06057e-14 [ 1.00000012] [ 1.00000012] [ -2.98137479e-07]\n",
      "1460 2.06057e-14 [ 1.00000012] [ 1.00000012] [ -2.98137479e-07]\n",
      "1480 2.06057e-14 [ 1.00000012] [ 1.00000012] [ -2.98137479e-07]\n",
      "1500 2.06057e-14 [ 1.00000012] [ 1.00000012] [ -2.98137479e-07]\n",
      "1520 2.06057e-14 [ 1.00000012] [ 1.00000012] [ -2.98137479e-07]\n",
      "1540 2.06057e-14 [ 1.00000012] [ 1.00000012] [ -2.98137479e-07]\n",
      "1560 2.06057e-14 [ 1.00000012] [ 1.00000012] [ -2.98137479e-07]\n",
      "1580 2.06057e-14 [ 1.00000012] [ 1.00000012] [ -2.98137479e-07]\n",
      "1600 2.06057e-14 [ 1.00000012] [ 1.00000012] [ -2.98137479e-07]\n",
      "1620 2.06057e-14 [ 1.00000012] [ 1.00000012] [ -2.98137479e-07]\n",
      "1640 2.06057e-14 [ 1.00000012] [ 1.00000012] [ -2.98137479e-07]\n",
      "1660 2.06057e-14 [ 1.00000012] [ 1.00000012] [ -2.98137479e-07]\n",
      "1680 2.06057e-14 [ 1.00000012] [ 1.00000012] [ -2.98137479e-07]\n",
      "1700 2.06057e-14 [ 1.00000012] [ 1.00000012] [ -2.98137479e-07]\n",
      "1720 2.06057e-14 [ 1.00000012] [ 1.00000012] [ -2.98137479e-07]\n",
      "1740 2.06057e-14 [ 1.00000012] [ 1.00000012] [ -2.98137479e-07]\n",
      "1760 2.06057e-14 [ 1.00000012] [ 1.00000012] [ -2.98137479e-07]\n",
      "1780 2.06057e-14 [ 1.00000012] [ 1.00000012] [ -2.98137479e-07]\n",
      "1800 2.06057e-14 [ 1.00000012] [ 1.00000012] [ -2.98137479e-07]\n",
      "1820 2.06057e-14 [ 1.00000012] [ 1.00000012] [ -2.98137479e-07]\n",
      "1840 2.06057e-14 [ 1.00000012] [ 1.00000012] [ -2.98137479e-07]\n",
      "1860 2.06057e-14 [ 1.00000012] [ 1.00000012] [ -2.98137479e-07]\n",
      "1880 2.06057e-14 [ 1.00000012] [ 1.00000012] [ -2.98137479e-07]\n",
      "1900 2.06057e-14 [ 1.00000012] [ 1.00000012] [ -2.98137479e-07]\n",
      "1920 2.06057e-14 [ 1.00000012] [ 1.00000012] [ -2.98137479e-07]\n",
      "1940 2.06057e-14 [ 1.00000012] [ 1.00000012] [ -2.98137479e-07]\n",
      "1960 2.06057e-14 [ 1.00000012] [ 1.00000012] [ -2.98137479e-07]\n",
      "1980 2.06057e-14 [ 1.00000012] [ 1.00000012] [ -2.98137479e-07]\n",
      "2000 2.06057e-14 [ 1.00000012] [ 1.00000012] [ -2.98137479e-07]\n"
     ]
    }
   ],
   "source": [
    "# Fit the line.\n",
    "for step in xrange(2001):\n",
    "    sess.run(train)\n",
    "    if step % 20 ==0:\n",
    "        print step, sess.run(cost), sess.run(W1), sess.run(W2), sess.run(b)"
   ]
  },
  {
   "cell_type": "markdown",
   "metadata": {},
   "source": [
    "- 결과 : w1=1, w2=1, b=0"
   ]
  },
  {
   "cell_type": "markdown",
   "metadata": {},
   "source": [
    "### ii) Matrix로 표현 (b는 matrix에 포함x)"
   ]
  },
  {
   "cell_type": "markdown",
   "metadata": {},
   "source": [
    "<img src=\"img/4_2.png\"/>"
   ]
  },
  {
   "cell_type": "code",
   "execution_count": 125,
   "metadata": {
    "collapsed": true
   },
   "outputs": [],
   "source": [
    "x_data = [[0.,2.,0.,4.,0.],[1.,0.,3.,0.,5.]] #2차원 list\n",
    "# x_data = [[0,2,0,4,0],[1,0,3,0,5]]  # => 이렇게하면(int타입) tf.matmul 연산할때부터 에러남\n",
    "y_data = [1,2,3,4,5]"
   ]
  },
  {
   "cell_type": "code",
   "execution_count": 126,
   "metadata": {
    "collapsed": true
   },
   "outputs": [],
   "source": [
    "# Try to find values for W\n",
    "W = tf.Variable(tf.random_uniform([1,2], -1.0, 1.0)) # => 1x2행렬이라는 의미.\n",
    "b = tf.Variable(tf.random_uniform([1], -1.0, 1.0))"
   ]
  },
  {
   "cell_type": "markdown",
   "metadata": {},
   "source": [
    "<img src=\"img/4_3.png\"/>"
   ]
  },
  {
   "cell_type": "code",
   "execution_count": 119,
   "metadata": {
    "collapsed": false
   },
   "outputs": [],
   "source": [
    "# Our hypothesis\n",
    "hypothesis = tf.matmul(W, x_data) + b\n",
    "# => matmul(Matrix 연산) 해야함!"
   ]
  },
  {
   "cell_type": "code",
   "execution_count": 120,
   "metadata": {
    "collapsed": true
   },
   "outputs": [],
   "source": [
    "# Simplified cost function\n",
    "cost = tf.reduce_mean(tf.square(hypothesis - y_data))"
   ]
  },
  {
   "cell_type": "code",
   "execution_count": 121,
   "metadata": {
    "collapsed": true
   },
   "outputs": [],
   "source": [
    "# Minimize\n",
    "a = tf.Variable(0.1) # Learning rate, Alpha\n",
    "optimizer = tf.train.GradientDescentOptimizer(a)\n",
    "train = optimizer.minimize(cost)"
   ]
  },
  {
   "cell_type": "code",
   "execution_count": 122,
   "metadata": {
    "collapsed": true
   },
   "outputs": [],
   "source": [
    "#Before starting, initialize the variables. We will 'run' this first.\n",
    "init = tf.initialize_all_variables()"
   ]
  },
  {
   "cell_type": "code",
   "execution_count": 123,
   "metadata": {
    "collapsed": true
   },
   "outputs": [],
   "source": [
    "# Launch the graph.\n",
    "sess = tf.Session()\n",
    "sess.run(init)"
   ]
  },
  {
   "cell_type": "code",
   "execution_count": 124,
   "metadata": {
    "collapsed": false
   },
   "outputs": [
    {
     "name": "stdout",
     "output_type": "stream",
     "text": [
      "0 8.50312 [[ 1.08427525  2.06552768]] [ 0.12660241]\n",
      "20 0.001224 [[ 1.0258683   1.02180338]] [-0.08293819]\n",
      "40 0.000354402 [[ 1.01391935  1.01173162]] [-0.04462838]\n",
      "60 0.000102613 [[ 1.00748992  1.00631261]] [-0.02401412]\n",
      "80 2.97113e-05 [[ 1.00403023  1.00339675]] [-0.0129218]\n",
      "100 8.60208e-06 [[ 1.00216866  1.00182784]] [-0.00695307]\n",
      "120 2.4908e-06 [[ 1.00116694  1.00098348]] [-0.0037414]\n",
      "140 7.21226e-07 [[ 1.00062788  1.00052929]] [-0.00201326]\n",
      "160 2.08813e-07 [[ 1.00033784  1.00028479]] [-0.00108338]\n",
      "180 6.04162e-08 [[ 1.00018179  1.00015318]] [-0.00058294]\n",
      "200 1.74907e-08 [[ 1.00009775  1.00008237]] [-0.00031361]\n",
      "220 5.07043e-09 [[ 1.00005269  1.00004435]] [-0.00016878]\n",
      "240 1.4635e-09 [[ 1.00002837  1.00002384]] [ -9.08598886e-05]\n",
      "260 4.22631e-10 [[ 1.00001526  1.00001287]] [ -4.89006015e-05]\n",
      "280 1.23163e-10 [[ 1.00000823  1.00000691]] [ -2.63175862e-05]\n",
      "300 3.6156e-11 [[ 1.00000441  1.0000037 ]] [ -1.42226118e-05]\n",
      "320 1.03235e-11 [[ 1.00000238  1.00000203]] [ -7.68755763e-06]\n",
      "340 2.72351e-12 [[ 1.00000131  1.00000107]] [ -4.08743699e-06]\n",
      "360 8.84626e-13 [[ 1.00000072  1.00000048]] [ -2.23015672e-06]\n",
      "380 2.73559e-13 [[ 1.00000048  1.00000036]] [ -1.23833524e-06]\n",
      "400 1.45661e-13 [[ 1.00000036  1.00000024]] [ -8.80707546e-07]\n",
      "420 1.42109e-14 [[ 1.00000012  1.00000012]] [ -3.82412708e-07]\n",
      "440 1.77636e-14 [[ 1.00000012  1.00000012]] [ -2.96582073e-07]\n",
      "460 1.77636e-14 [[ 1.00000012  1.00000012]] [ -2.96582073e-07]\n",
      "480 1.77636e-14 [[ 1.00000012  1.00000012]] [ -2.96582073e-07]\n",
      "500 1.77636e-14 [[ 1.00000012  1.00000012]] [ -2.96582073e-07]\n",
      "520 1.77636e-14 [[ 1.00000012  1.00000012]] [ -2.96582073e-07]\n",
      "540 1.77636e-14 [[ 1.00000012  1.00000012]] [ -2.96582073e-07]\n",
      "560 1.77636e-14 [[ 1.00000012  1.00000012]] [ -2.96582073e-07]\n",
      "580 1.77636e-14 [[ 1.00000012  1.00000012]] [ -2.96582073e-07]\n",
      "600 1.77636e-14 [[ 1.00000012  1.00000012]] [ -2.96582073e-07]\n",
      "620 1.77636e-14 [[ 1.00000012  1.00000012]] [ -2.96582073e-07]\n",
      "640 1.77636e-14 [[ 1.00000012  1.00000012]] [ -2.96582073e-07]\n",
      "660 1.77636e-14 [[ 1.00000012  1.00000012]] [ -2.96582073e-07]\n",
      "680 1.77636e-14 [[ 1.00000012  1.00000012]] [ -2.96582073e-07]\n",
      "700 1.77636e-14 [[ 1.00000012  1.00000012]] [ -2.96582073e-07]\n",
      "720 1.77636e-14 [[ 1.00000012  1.00000012]] [ -2.96582073e-07]\n",
      "740 1.77636e-14 [[ 1.00000012  1.00000012]] [ -2.96582073e-07]\n",
      "760 1.77636e-14 [[ 1.00000012  1.00000012]] [ -2.96582073e-07]\n",
      "780 1.77636e-14 [[ 1.00000012  1.00000012]] [ -2.96582073e-07]\n",
      "800 1.77636e-14 [[ 1.00000012  1.00000012]] [ -2.96582073e-07]\n",
      "820 1.77636e-14 [[ 1.00000012  1.00000012]] [ -2.96582073e-07]\n",
      "840 1.77636e-14 [[ 1.00000012  1.00000012]] [ -2.96582073e-07]\n",
      "860 1.77636e-14 [[ 1.00000012  1.00000012]] [ -2.96582073e-07]\n",
      "880 1.77636e-14 [[ 1.00000012  1.00000012]] [ -2.96582073e-07]\n",
      "900 1.77636e-14 [[ 1.00000012  1.00000012]] [ -2.96582073e-07]\n",
      "920 1.77636e-14 [[ 1.00000012  1.00000012]] [ -2.96582073e-07]\n",
      "940 1.77636e-14 [[ 1.00000012  1.00000012]] [ -2.96582073e-07]\n",
      "960 1.77636e-14 [[ 1.00000012  1.00000012]] [ -2.96582073e-07]\n",
      "980 1.77636e-14 [[ 1.00000012  1.00000012]] [ -2.96582073e-07]\n",
      "1000 1.77636e-14 [[ 1.00000012  1.00000012]] [ -2.96582073e-07]\n",
      "1020 1.77636e-14 [[ 1.00000012  1.00000012]] [ -2.96582073e-07]\n",
      "1040 1.77636e-14 [[ 1.00000012  1.00000012]] [ -2.96582073e-07]\n",
      "1060 1.77636e-14 [[ 1.00000012  1.00000012]] [ -2.96582073e-07]\n",
      "1080 1.77636e-14 [[ 1.00000012  1.00000012]] [ -2.96582073e-07]\n",
      "1100 1.77636e-14 [[ 1.00000012  1.00000012]] [ -2.96582073e-07]\n",
      "1120 1.77636e-14 [[ 1.00000012  1.00000012]] [ -2.96582073e-07]\n",
      "1140 1.77636e-14 [[ 1.00000012  1.00000012]] [ -2.96582073e-07]\n",
      "1160 1.77636e-14 [[ 1.00000012  1.00000012]] [ -2.96582073e-07]\n",
      "1180 1.77636e-14 [[ 1.00000012  1.00000012]] [ -2.96582073e-07]\n",
      "1200 1.77636e-14 [[ 1.00000012  1.00000012]] [ -2.96582073e-07]\n",
      "1220 1.77636e-14 [[ 1.00000012  1.00000012]] [ -2.96582073e-07]\n",
      "1240 1.77636e-14 [[ 1.00000012  1.00000012]] [ -2.96582073e-07]\n",
      "1260 1.77636e-14 [[ 1.00000012  1.00000012]] [ -2.96582073e-07]\n",
      "1280 1.77636e-14 [[ 1.00000012  1.00000012]] [ -2.96582073e-07]\n",
      "1300 1.77636e-14 [[ 1.00000012  1.00000012]] [ -2.96582073e-07]\n",
      "1320 1.77636e-14 [[ 1.00000012  1.00000012]] [ -2.96582073e-07]\n",
      "1340 1.77636e-14 [[ 1.00000012  1.00000012]] [ -2.96582073e-07]\n",
      "1360 1.77636e-14 [[ 1.00000012  1.00000012]] [ -2.96582073e-07]\n",
      "1380 1.77636e-14 [[ 1.00000012  1.00000012]] [ -2.96582073e-07]\n",
      "1400 1.77636e-14 [[ 1.00000012  1.00000012]] [ -2.96582073e-07]\n",
      "1420 1.77636e-14 [[ 1.00000012  1.00000012]] [ -2.96582073e-07]\n",
      "1440 1.77636e-14 [[ 1.00000012  1.00000012]] [ -2.96582073e-07]\n",
      "1460 1.77636e-14 [[ 1.00000012  1.00000012]] [ -2.96582073e-07]\n",
      "1480 1.77636e-14 [[ 1.00000012  1.00000012]] [ -2.96582073e-07]\n",
      "1500 1.77636e-14 [[ 1.00000012  1.00000012]] [ -2.96582073e-07]\n",
      "1520 1.77636e-14 [[ 1.00000012  1.00000012]] [ -2.96582073e-07]\n",
      "1540 1.77636e-14 [[ 1.00000012  1.00000012]] [ -2.96582073e-07]\n",
      "1560 1.77636e-14 [[ 1.00000012  1.00000012]] [ -2.96582073e-07]\n",
      "1580 1.77636e-14 [[ 1.00000012  1.00000012]] [ -2.96582073e-07]\n",
      "1600 1.77636e-14 [[ 1.00000012  1.00000012]] [ -2.96582073e-07]\n",
      "1620 1.77636e-14 [[ 1.00000012  1.00000012]] [ -2.96582073e-07]\n",
      "1640 1.77636e-14 [[ 1.00000012  1.00000012]] [ -2.96582073e-07]\n",
      "1660 1.77636e-14 [[ 1.00000012  1.00000012]] [ -2.96582073e-07]\n",
      "1680 1.77636e-14 [[ 1.00000012  1.00000012]] [ -2.96582073e-07]\n",
      "1700 1.77636e-14 [[ 1.00000012  1.00000012]] [ -2.96582073e-07]\n",
      "1720 1.77636e-14 [[ 1.00000012  1.00000012]] [ -2.96582073e-07]\n",
      "1740 1.77636e-14 [[ 1.00000012  1.00000012]] [ -2.96582073e-07]\n",
      "1760 1.77636e-14 [[ 1.00000012  1.00000012]] [ -2.96582073e-07]\n",
      "1780 1.77636e-14 [[ 1.00000012  1.00000012]] [ -2.96582073e-07]\n",
      "1800 1.77636e-14 [[ 1.00000012  1.00000012]] [ -2.96582073e-07]\n",
      "1820 1.77636e-14 [[ 1.00000012  1.00000012]] [ -2.96582073e-07]\n",
      "1840 1.77636e-14 [[ 1.00000012  1.00000012]] [ -2.96582073e-07]\n",
      "1860 1.77636e-14 [[ 1.00000012  1.00000012]] [ -2.96582073e-07]\n",
      "1880 1.77636e-14 [[ 1.00000012  1.00000012]] [ -2.96582073e-07]\n",
      "1900 1.77636e-14 [[ 1.00000012  1.00000012]] [ -2.96582073e-07]\n",
      "1920 1.77636e-14 [[ 1.00000012  1.00000012]] [ -2.96582073e-07]\n",
      "1940 1.77636e-14 [[ 1.00000012  1.00000012]] [ -2.96582073e-07]\n",
      "1960 1.77636e-14 [[ 1.00000012  1.00000012]] [ -2.96582073e-07]\n",
      "1980 1.77636e-14 [[ 1.00000012  1.00000012]] [ -2.96582073e-07]\n",
      "2000 1.77636e-14 [[ 1.00000012  1.00000012]] [ -2.96582073e-07]\n"
     ]
    }
   ],
   "source": [
    "# Fit the line.\n",
    "for step in xrange(2001):\n",
    "    sess.run(train)\n",
    "    if step % 20 ==0:\n",
    "        print step, sess.run(cost), sess.run(W), sess.run(b)"
   ]
  },
  {
   "cell_type": "code",
   "execution_count": null,
   "metadata": {
    "collapsed": true
   },
   "outputs": [],
   "source": []
  },
  {
   "cell_type": "markdown",
   "metadata": {},
   "source": [
    "### iii) Matrix로 표현 (b도 matrix에 포함!)"
   ]
  },
  {
   "cell_type": "markdown",
   "metadata": {},
   "source": [
    "<img src=\"img/4_4.png\"/>"
   ]
  },
  {
   "cell_type": "code",
   "execution_count": 127,
   "metadata": {
    "collapsed": true
   },
   "outputs": [],
   "source": [
    "x_data = [[1,1,1,1,1],[0.,2.,0.,4.,0.],[1.,0.,3.,0.,5.]] #2차원 list\n",
    "y_data = [1,2,3,4,5]"
   ]
  },
  {
   "cell_type": "code",
   "execution_count": 128,
   "metadata": {
    "collapsed": true
   },
   "outputs": [],
   "source": [
    "# Try to find values for W\n",
    "W = tf.Variable(tf.random_uniform([1,3], -1.0, 1.0)) # => 1x3행렬이라는 의미."
   ]
  },
  {
   "cell_type": "code",
   "execution_count": 129,
   "metadata": {
    "collapsed": true
   },
   "outputs": [],
   "source": [
    "# Our hypothesis\n",
    "hypothesis = tf.matmul(W, x_data)\n",
    "# => matmul(Matrix 연산) 해야함!"
   ]
  },
  {
   "cell_type": "code",
   "execution_count": 130,
   "metadata": {
    "collapsed": true
   },
   "outputs": [],
   "source": [
    "# Simplified cost function\n",
    "cost = tf.reduce_mean(tf.square(hypothesis - y_data))"
   ]
  },
  {
   "cell_type": "code",
   "execution_count": 136,
   "metadata": {
    "collapsed": true
   },
   "outputs": [],
   "source": [
    "# Minimize\n",
    "a = tf.Variable(0.1) # Learning rate, Alpha\n",
    "optimizer = tf.train.GradientDescentOptimizer(a)\n",
    "train = optimizer.minimize(cost)"
   ]
  },
  {
   "cell_type": "code",
   "execution_count": 137,
   "metadata": {
    "collapsed": true
   },
   "outputs": [],
   "source": [
    "#Before starting, initialize the variables. We will 'run' this first.\n",
    "init = tf.initialize_all_variables()"
   ]
  },
  {
   "cell_type": "code",
   "execution_count": 138,
   "metadata": {
    "collapsed": true
   },
   "outputs": [],
   "source": [
    "# Launch the graph.\n",
    "sess = tf.Session()\n",
    "sess.run(init)"
   ]
  },
  {
   "cell_type": "code",
   "execution_count": 139,
   "metadata": {
    "collapsed": false,
    "scrolled": true
   },
   "outputs": [
    {
     "name": "stdout",
     "output_type": "stream",
     "text": [
      "0 0.448583 [[ 0.15168712  0.94271559  1.2128315 ]]\n",
      "20 0.000488775 [[ 0.05241062  0.98365343  0.98622304]]\n",
      "40 0.00014152 [[ 0.02820159  0.99120402  0.99258661]]\n",
      "60 4.09764e-05 [[ 0.01517504  0.99526697  0.9960109 ]]\n",
      "80 1.18645e-05 [[ 0.00816554  0.99745321  0.99785358]]\n",
      "100 3.43514e-06 [[ 0.00439376  0.99862963  0.99884498]]\n",
      "120 9.94519e-07 [[ 0.00236421  0.99926263  0.99937856]]\n",
      "140 2.87971e-07 [[ 0.00127212  0.99960321  0.9996655 ]]\n",
      "160 8.33728e-08 [[  6.84513361e-04   9.99786496e-01   9.99820054e-01]]\n",
      "180 2.41481e-08 [[  3.68308247e-04   9.99885142e-01   9.99903142e-01]]\n",
      "200 6.98981e-09 [[  1.98186972e-04   9.99938190e-01   9.99947846e-01]]\n",
      "220 2.02106e-09 [[  1.06662861e-04   9.99966681e-01   9.99971926e-01]]\n",
      "240 5.87139e-10 [[  5.74103433e-05   9.99982119e-01   9.99984920e-01]]\n",
      "260 1.69726e-10 [[  3.08791132e-05   9.99990344e-01   9.99991894e-01]]\n",
      "280 4.82714e-11 [[  1.66216851e-05   9.99994814e-01   9.99995589e-01]]\n",
      "300 1.41199e-11 [[  8.96368238e-06   9.99997199e-01   9.99997675e-01]]\n",
      "320 4.16094e-12 [[  4.84857765e-06   9.99998510e-01   9.99998748e-01]]\n",
      "340 1.29887e-12 [[  2.64559026e-06   9.99999225e-01   9.99999344e-01]]\n",
      "360 2.95586e-13 [[  1.40581369e-06   9.99999583e-01   9.99999583e-01]]\n",
      "380 1.93268e-13 [[  8.47914293e-07   9.99999762e-01   9.99999821e-01]]\n",
      "400 4.83169e-14 [[  4.90286482e-07   9.99999821e-01   9.99999881e-01]]\n",
      "420 2.55795e-14 [[  2.70941428e-07   9.99999940e-01   9.99999881e-01]]\n",
      "440 2.27374e-14 [[  2.13721037e-07   9.99999940e-01   1.00000000e+00]]\n",
      "460 1.42109e-14 [[  1.75574101e-07   9.99999940e-01   1.00000000e+00]]\n",
      "480 1.42109e-14 [[  1.75574101e-07   9.99999940e-01   1.00000000e+00]]\n",
      "500 1.42109e-14 [[  1.75574101e-07   9.99999940e-01   1.00000000e+00]]\n",
      "520 1.42109e-14 [[  1.75574101e-07   9.99999940e-01   1.00000000e+00]]\n",
      "540 1.42109e-14 [[  1.75574101e-07   9.99999940e-01   1.00000000e+00]]\n",
      "560 1.42109e-14 [[  1.75574101e-07   9.99999940e-01   1.00000000e+00]]\n",
      "580 1.42109e-14 [[  1.75574101e-07   9.99999940e-01   1.00000000e+00]]\n",
      "600 1.42109e-14 [[  1.75574101e-07   9.99999940e-01   1.00000000e+00]]\n",
      "620 1.42109e-14 [[  1.75574101e-07   9.99999940e-01   1.00000000e+00]]\n",
      "640 1.42109e-14 [[  1.75574101e-07   9.99999940e-01   1.00000000e+00]]\n",
      "660 1.42109e-14 [[  1.75574101e-07   9.99999940e-01   1.00000000e+00]]\n",
      "680 1.42109e-14 [[  1.75574101e-07   9.99999940e-01   1.00000000e+00]]\n",
      "700 1.42109e-14 [[  1.75574101e-07   9.99999940e-01   1.00000000e+00]]\n",
      "720 1.42109e-14 [[  1.75574101e-07   9.99999940e-01   1.00000000e+00]]\n",
      "740 1.42109e-14 [[  1.75574101e-07   9.99999940e-01   1.00000000e+00]]\n",
      "760 1.42109e-14 [[  1.75574101e-07   9.99999940e-01   1.00000000e+00]]\n",
      "780 1.42109e-14 [[  1.75574101e-07   9.99999940e-01   1.00000000e+00]]\n",
      "800 1.42109e-14 [[  1.75574101e-07   9.99999940e-01   1.00000000e+00]]\n",
      "820 1.42109e-14 [[  1.75574101e-07   9.99999940e-01   1.00000000e+00]]\n",
      "840 1.42109e-14 [[  1.75574101e-07   9.99999940e-01   1.00000000e+00]]\n",
      "860 1.42109e-14 [[  1.75574101e-07   9.99999940e-01   1.00000000e+00]]\n",
      "880 1.42109e-14 [[  1.75574101e-07   9.99999940e-01   1.00000000e+00]]\n",
      "900 1.42109e-14 [[  1.75574101e-07   9.99999940e-01   1.00000000e+00]]\n",
      "920 1.42109e-14 [[  1.75574101e-07   9.99999940e-01   1.00000000e+00]]\n",
      "940 1.42109e-14 [[  1.75574101e-07   9.99999940e-01   1.00000000e+00]]\n",
      "960 1.42109e-14 [[  1.75574101e-07   9.99999940e-01   1.00000000e+00]]\n",
      "980 1.42109e-14 [[  1.75574101e-07   9.99999940e-01   1.00000000e+00]]\n",
      "1000 1.42109e-14 [[  1.75574101e-07   9.99999940e-01   1.00000000e+00]]\n",
      "1020 1.42109e-14 [[  1.75574101e-07   9.99999940e-01   1.00000000e+00]]\n",
      "1040 1.42109e-14 [[  1.75574101e-07   9.99999940e-01   1.00000000e+00]]\n",
      "1060 1.42109e-14 [[  1.75574101e-07   9.99999940e-01   1.00000000e+00]]\n",
      "1080 1.42109e-14 [[  1.75574101e-07   9.99999940e-01   1.00000000e+00]]\n",
      "1100 1.42109e-14 [[  1.75574101e-07   9.99999940e-01   1.00000000e+00]]\n",
      "1120 1.42109e-14 [[  1.75574101e-07   9.99999940e-01   1.00000000e+00]]\n",
      "1140 1.42109e-14 [[  1.75574101e-07   9.99999940e-01   1.00000000e+00]]\n",
      "1160 1.42109e-14 [[  1.75574101e-07   9.99999940e-01   1.00000000e+00]]\n",
      "1180 1.42109e-14 [[  1.75574101e-07   9.99999940e-01   1.00000000e+00]]\n",
      "1200 1.42109e-14 [[  1.75574101e-07   9.99999940e-01   1.00000000e+00]]\n",
      "1220 1.42109e-14 [[  1.75574101e-07   9.99999940e-01   1.00000000e+00]]\n",
      "1240 1.42109e-14 [[  1.75574101e-07   9.99999940e-01   1.00000000e+00]]\n",
      "1260 1.42109e-14 [[  1.75574101e-07   9.99999940e-01   1.00000000e+00]]\n",
      "1280 1.42109e-14 [[  1.75574101e-07   9.99999940e-01   1.00000000e+00]]\n",
      "1300 1.42109e-14 [[  1.75574101e-07   9.99999940e-01   1.00000000e+00]]\n",
      "1320 1.42109e-14 [[  1.75574101e-07   9.99999940e-01   1.00000000e+00]]\n",
      "1340 1.42109e-14 [[  1.75574101e-07   9.99999940e-01   1.00000000e+00]]\n",
      "1360 1.42109e-14 [[  1.75574101e-07   9.99999940e-01   1.00000000e+00]]\n",
      "1380 1.42109e-14 [[  1.75574101e-07   9.99999940e-01   1.00000000e+00]]\n",
      "1400 1.42109e-14 [[  1.75574101e-07   9.99999940e-01   1.00000000e+00]]\n",
      "1420 1.42109e-14 [[  1.75574101e-07   9.99999940e-01   1.00000000e+00]]\n",
      "1440 1.42109e-14 [[  1.75574101e-07   9.99999940e-01   1.00000000e+00]]\n",
      "1460 1.42109e-14 [[  1.75574101e-07   9.99999940e-01   1.00000000e+00]]\n",
      "1480 1.42109e-14 [[  1.75574101e-07   9.99999940e-01   1.00000000e+00]]\n",
      "1500 1.42109e-14 [[  1.75574101e-07   9.99999940e-01   1.00000000e+00]]\n",
      "1520 1.42109e-14 [[  1.75574101e-07   9.99999940e-01   1.00000000e+00]]\n",
      "1540 1.42109e-14 [[  1.75574101e-07   9.99999940e-01   1.00000000e+00]]\n",
      "1560 1.42109e-14 [[  1.75574101e-07   9.99999940e-01   1.00000000e+00]]\n",
      "1580 1.42109e-14 [[  1.75574101e-07   9.99999940e-01   1.00000000e+00]]\n",
      "1600 1.42109e-14 [[  1.75574101e-07   9.99999940e-01   1.00000000e+00]]\n",
      "1620 1.42109e-14 [[  1.75574101e-07   9.99999940e-01   1.00000000e+00]]\n",
      "1640 1.42109e-14 [[  1.75574101e-07   9.99999940e-01   1.00000000e+00]]\n",
      "1660 1.42109e-14 [[  1.75574101e-07   9.99999940e-01   1.00000000e+00]]\n",
      "1680 1.42109e-14 [[  1.75574101e-07   9.99999940e-01   1.00000000e+00]]\n",
      "1700 1.42109e-14 [[  1.75574101e-07   9.99999940e-01   1.00000000e+00]]\n",
      "1720 1.42109e-14 [[  1.75574101e-07   9.99999940e-01   1.00000000e+00]]\n",
      "1740 1.42109e-14 [[  1.75574101e-07   9.99999940e-01   1.00000000e+00]]\n",
      "1760 1.42109e-14 [[  1.75574101e-07   9.99999940e-01   1.00000000e+00]]\n",
      "1780 1.42109e-14 [[  1.75574101e-07   9.99999940e-01   1.00000000e+00]]\n",
      "1800 1.42109e-14 [[  1.75574101e-07   9.99999940e-01   1.00000000e+00]]\n",
      "1820 1.42109e-14 [[  1.75574101e-07   9.99999940e-01   1.00000000e+00]]\n",
      "1840 1.42109e-14 [[  1.75574101e-07   9.99999940e-01   1.00000000e+00]]\n",
      "1860 1.42109e-14 [[  1.75574101e-07   9.99999940e-01   1.00000000e+00]]\n",
      "1880 1.42109e-14 [[  1.75574101e-07   9.99999940e-01   1.00000000e+00]]\n",
      "1900 1.42109e-14 [[  1.75574101e-07   9.99999940e-01   1.00000000e+00]]\n",
      "1920 1.42109e-14 [[  1.75574101e-07   9.99999940e-01   1.00000000e+00]]\n",
      "1940 1.42109e-14 [[  1.75574101e-07   9.99999940e-01   1.00000000e+00]]\n",
      "1960 1.42109e-14 [[  1.75574101e-07   9.99999940e-01   1.00000000e+00]]\n",
      "1980 1.42109e-14 [[  1.75574101e-07   9.99999940e-01   1.00000000e+00]]\n",
      "2000 1.42109e-14 [[  1.75574101e-07   9.99999940e-01   1.00000000e+00]]\n"
     ]
    }
   ],
   "source": [
    "# Fit the line.\n",
    "for step in xrange(2001):\n",
    "    sess.run(train)\n",
    "    if step % 20 ==0:\n",
    "        print step, sess.run(cost), sess.run(W)"
   ]
  },
  {
   "cell_type": "code",
   "execution_count": null,
   "metadata": {
    "collapsed": true
   },
   "outputs": [],
   "source": []
  },
  {
   "cell_type": "code",
   "execution_count": null,
   "metadata": {
    "collapsed": true
   },
   "outputs": [],
   "source": []
  },
  {
   "cell_type": "code",
   "execution_count": null,
   "metadata": {
    "collapsed": true
   },
   "outputs": [],
   "source": []
  },
  {
   "cell_type": "markdown",
   "metadata": {},
   "source": [
    "데이터 로드해서 선형회귀"
   ]
  },
  {
   "cell_type": "code",
   "execution_count": null,
   "metadata": {
    "collapsed": true
   },
   "outputs": [],
   "source": []
  },
  {
   "cell_type": "code",
   "execution_count": 141,
   "metadata": {
    "collapsed": true
   },
   "outputs": [],
   "source": [
    "import numpy as np # 강의에서는 numpy로 함.\n",
    "import pandas as pd"
   ]
  },
  {
   "cell_type": "code",
   "execution_count": 147,
   "metadata": {
    "collapsed": false
   },
   "outputs": [
    {
     "data": {
      "text/html": [
       "<div style=\"max-height:1000px;max-width:1500px;overflow:auto;\">\n",
       "<table border=\"1\" class=\"dataframe\">\n",
       "  <thead>\n",
       "    <tr style=\"text-align: right;\">\n",
       "      <th></th>\n",
       "      <th>x0</th>\n",
       "      <th>x1</th>\n",
       "      <th>x2</th>\n",
       "      <th>y</th>\n",
       "    </tr>\n",
       "  </thead>\n",
       "  <tbody>\n",
       "    <tr>\n",
       "      <th>0</th>\n",
       "      <td>1</td>\n",
       "      <td>1</td>\n",
       "      <td>0</td>\n",
       "      <td>1</td>\n",
       "    </tr>\n",
       "    <tr>\n",
       "      <th>1</th>\n",
       "      <td>1</td>\n",
       "      <td>0</td>\n",
       "      <td>2</td>\n",
       "      <td>2</td>\n",
       "    </tr>\n",
       "    <tr>\n",
       "      <th>2</th>\n",
       "      <td>1</td>\n",
       "      <td>3</td>\n",
       "      <td>0</td>\n",
       "      <td>3</td>\n",
       "    </tr>\n",
       "    <tr>\n",
       "      <th>3</th>\n",
       "      <td>1</td>\n",
       "      <td>0</td>\n",
       "      <td>4</td>\n",
       "      <td>4</td>\n",
       "    </tr>\n",
       "    <tr>\n",
       "      <th>4</th>\n",
       "      <td>1</td>\n",
       "      <td>5</td>\n",
       "      <td>0</td>\n",
       "      <td>5</td>\n",
       "    </tr>\n",
       "  </tbody>\n",
       "</table>\n",
       "</div>"
      ],
      "text/plain": [
       "   x0  x1  x2  y\n",
       "0   1   1   0  1\n",
       "1   1   0   2  2\n",
       "2   1   3   0  3\n",
       "3   1   0   4  4\n",
       "4   1   5   0  5"
      ]
     },
     "execution_count": 147,
     "metadata": {},
     "output_type": "execute_result"
    }
   ],
   "source": [
    "# data = np.loadtxt(\"~~\", unpak=True, dtype=\"float32\")  # 강의에서는 이렇게 읽음\n",
    "data = pd.read_csv(\"data/simple_train.csv\", dtype=\"float32\")\n",
    "data"
   ]
  },
  {
   "cell_type": "code",
   "execution_count": 185,
   "metadata": {
    "collapsed": false
   },
   "outputs": [
    {
     "name": "stdout",
     "output_type": "stream",
     "text": [
      "   x0  x1  x2\n",
      "0   1   1   0\n",
      "1   1   0   2\n",
      "2   1   3   0\n",
      "3   1   0   4\n",
      "4   1   5   0\n",
      "   y\n",
      "0  1\n",
      "1  2\n",
      "2  3\n",
      "3  4\n",
      "4  5\n"
     ]
    }
   ],
   "source": [
    "# train data (여기서 x0은 b임.)\n",
    "x_data = data[[\"x0\",\"x1\",\"x2\"]]\n",
    "y_data = data[[\"y\"]]\n",
    "print x_data\n",
    "print y_data"
   ]
  },
  {
   "cell_type": "markdown",
   "metadata": {
    "collapsed": true
   },
   "source": [
    "- pandas로 안됨,,,ㅜ ㅜ "
   ]
  },
  {
   "cell_type": "code",
   "execution_count": 186,
   "metadata": {
    "collapsed": false
   },
   "outputs": [
    {
     "data": {
      "text/plain": [
       "5"
      ]
     },
     "execution_count": 186,
     "metadata": {},
     "output_type": "execute_result"
    }
   ],
   "source": [
    "len(x_data)"
   ]
  },
  {
   "cell_type": "code",
   "execution_count": 199,
   "metadata": {
    "collapsed": false
   },
   "outputs": [
    {
     "data": {
      "text/plain": [
       "array([[ 1.,  1.,  1.,  1.,  1.],\n",
       "       [ 1.,  0.,  3.,  0.,  5.],\n",
       "       [ 0.,  2.,  0.,  4.,  0.],\n",
       "       [ 1.,  2.,  3.,  4.,  5.]], dtype=float32)"
      ]
     },
     "execution_count": 199,
     "metadata": {},
     "output_type": "execute_result"
    }
   ],
   "source": [
    "xy = np.loadtxt(\"data/simple_train.csv\", skiprows=1, dtype=\"float32\", delimiter=\",\", unpack=True) \n",
    "# => 헤더 한줄은 스킵, unpack은 모르겠음...\n",
    "xy"
   ]
  },
  {
   "cell_type": "code",
   "execution_count": 204,
   "metadata": {
    "collapsed": false
   },
   "outputs": [
    {
     "data": {
      "text/plain": [
       "array([[ 1.,  1.,  1.,  1.,  1.],\n",
       "       [ 1.,  0.,  3.,  0.,  5.],\n",
       "       [ 0.,  2.,  0.,  4.,  0.]], dtype=float32)"
      ]
     },
     "execution_count": 204,
     "metadata": {},
     "output_type": "execute_result"
    }
   ],
   "source": [
    "x_data = xy[0:-1]\n",
    "x_data"
   ]
  },
  {
   "cell_type": "code",
   "execution_count": 205,
   "metadata": {
    "collapsed": false
   },
   "outputs": [
    {
     "data": {
      "text/plain": [
       "array([ 1.,  2.,  3.,  4.,  5.], dtype=float32)"
      ]
     },
     "execution_count": 205,
     "metadata": {},
     "output_type": "execute_result"
    }
   ],
   "source": [
    "y_data = xy[-1]\n",
    "y_data"
   ]
  },
  {
   "cell_type": "code",
   "execution_count": null,
   "metadata": {
    "collapsed": true
   },
   "outputs": [],
   "source": []
  },
  {
   "cell_type": "code",
   "execution_count": 206,
   "metadata": {
    "collapsed": true
   },
   "outputs": [],
   "source": [
    "W = tf.Variable(tf.random_uniform([1,len(x_data)], -5.0, 5.0))"
   ]
  },
  {
   "cell_type": "code",
   "execution_count": 207,
   "metadata": {
    "collapsed": true
   },
   "outputs": [],
   "source": [
    "# Our hypothesis\n",
    "hypothesis = tf.matmul(W, x_data)"
   ]
  },
  {
   "cell_type": "code",
   "execution_count": 208,
   "metadata": {
    "collapsed": true
   },
   "outputs": [],
   "source": [
    "# Simplified cost function\n",
    "cost = tf.reduce_mean(tf.square(hypothesis - y_data))"
   ]
  },
  {
   "cell_type": "code",
   "execution_count": 212,
   "metadata": {
    "collapsed": true
   },
   "outputs": [],
   "source": [
    "# Minimize\n",
    "a = tf.Variable(0.1) # Learning rate, Alpha\n",
    "optimizer = tf.train.GradientDescentOptimizer(a)\n",
    "train = optimizer.minimize(cost)\n",
    "\n",
    "#Before starting, initialize the variables. We will 'run' this first.\n",
    "init = tf.initialize_all_variables()\n",
    "\n",
    "# Launch the graph.\n",
    "sess = tf.Session()\n",
    "sess.run(init)"
   ]
  },
  {
   "cell_type": "code",
   "execution_count": 213,
   "metadata": {
    "collapsed": false,
    "scrolled": true
   },
   "outputs": [
    {
     "name": "stdout",
     "output_type": "stream",
     "text": [
      "0 19.4616 [[ 4.3548069  -1.50189972 -1.13271761]]\n",
      "20 1.22079 [[ 2.61930132  0.31145784  0.18305169]]\n",
      "40 0.35347 [[ 1.40942204  0.62950265  0.56040776]]\n",
      "60 0.102344 [[ 0.75839698  0.80063885  0.7634595 ]]\n",
      "80 0.0296329 [[ 0.40808639  0.89272553  0.87271971]]\n",
      "100 0.00857997 [[ 0.2195875  0.9422766  0.9315117]]\n",
      "120 0.00248425 [[ 0.11815798  0.96893954  0.9631471 ]]\n",
      "140 0.000719293 [[ 0.06357966  0.98328662  0.98016977]]\n",
      "160 0.000208266 [[ 0.03421159  0.99100667  0.98932958]]\n",
      "180 6.03015e-05 [[ 0.018409    0.99516082  0.99425834]]\n",
      "200 1.74599e-05 [[ 0.00990571  0.99739599  0.99691045]]\n",
      "220 5.05546e-06 [[ 0.00533019  0.99859887  0.99833757]]\n",
      "240 1.46379e-06 [[ 0.00286812  0.99924606  0.99910545]]\n",
      "260 4.23756e-07 [[ 0.00154332  0.99959439  0.99951863]]\n",
      "280 1.22701e-07 [[  8.30416800e-04   9.99781728e-01   9.99740958e-01]]\n",
      "300 3.55092e-08 [[  4.46834718e-04   9.99882579e-01   9.99860644e-01]]\n",
      "320 1.02965e-08 [[  2.40450085e-04   9.99936759e-01   9.99925017e-01]]\n",
      "340 2.98293e-09 [[  1.29423352e-04   9.99965966e-01   9.99959648e-01]]\n",
      "360 8.60541e-10 [[  6.96661227e-05   9.99981642e-01   9.99978304e-01]]\n",
      "380 2.48417e-10 [[  3.74796109e-05   9.99990165e-01   9.99988317e-01]]\n",
      "400 7.23872e-11 [[  2.01513485e-05   9.99994755e-01   9.99993742e-01]]\n",
      "420 2.04551e-11 [[  1.08196455e-05   9.99997199e-01   9.99996603e-01]]\n",
      "440 6.11635e-12 [[  5.84146619e-06   9.99998450e-01   9.99998212e-01]]\n",
      "460 1.71951e-12 [[  3.12826296e-06   9.99999106e-01   9.99998987e-01]]\n",
      "480 5.3717e-13 [[  1.70728822e-06   9.99999583e-01   9.99999464e-01]]\n",
      "500 1.36424e-13 [[  9.34812419e-07   9.99999762e-01   9.99999702e-01]]\n",
      "520 9.37916e-14 [[  5.72416127e-07   9.99999821e-01   9.99999821e-01]]\n",
      "540 3.41061e-14 [[  3.05387402e-07   9.99999881e-01   9.99999940e-01]]\n",
      "560 4.83169e-14 [[  2.10020062e-07   9.99999940e-01   9.99999940e-01]]\n",
      "580 4.83169e-14 [[  1.62336391e-07   9.99999940e-01   9.99999940e-01]]\n",
      "600 4.83169e-14 [[  1.62336391e-07   9.99999940e-01   9.99999940e-01]]\n",
      "620 4.83169e-14 [[  1.62336391e-07   9.99999940e-01   9.99999940e-01]]\n",
      "640 4.83169e-14 [[  1.62336391e-07   9.99999940e-01   9.99999940e-01]]\n",
      "660 4.83169e-14 [[  1.62336391e-07   9.99999940e-01   9.99999940e-01]]\n",
      "680 4.83169e-14 [[  1.62336391e-07   9.99999940e-01   9.99999940e-01]]\n",
      "700 4.83169e-14 [[  1.62336391e-07   9.99999940e-01   9.99999940e-01]]\n",
      "720 4.83169e-14 [[  1.62336391e-07   9.99999940e-01   9.99999940e-01]]\n",
      "740 4.83169e-14 [[  1.62336391e-07   9.99999940e-01   9.99999940e-01]]\n",
      "760 4.83169e-14 [[  1.62336391e-07   9.99999940e-01   9.99999940e-01]]\n",
      "780 4.83169e-14 [[  1.62336391e-07   9.99999940e-01   9.99999940e-01]]\n",
      "800 4.83169e-14 [[  1.62336391e-07   9.99999940e-01   9.99999940e-01]]\n",
      "820 4.83169e-14 [[  1.62336391e-07   9.99999940e-01   9.99999940e-01]]\n",
      "840 4.83169e-14 [[  1.62336391e-07   9.99999940e-01   9.99999940e-01]]\n",
      "860 4.83169e-14 [[  1.62336391e-07   9.99999940e-01   9.99999940e-01]]\n",
      "880 4.83169e-14 [[  1.62336391e-07   9.99999940e-01   9.99999940e-01]]\n",
      "900 4.83169e-14 [[  1.62336391e-07   9.99999940e-01   9.99999940e-01]]\n",
      "920 4.83169e-14 [[  1.62336391e-07   9.99999940e-01   9.99999940e-01]]\n",
      "940 4.83169e-14 [[  1.62336391e-07   9.99999940e-01   9.99999940e-01]]\n",
      "960 4.83169e-14 [[  1.62336391e-07   9.99999940e-01   9.99999940e-01]]\n",
      "980 4.83169e-14 [[  1.62336391e-07   9.99999940e-01   9.99999940e-01]]\n",
      "1000 4.83169e-14 [[  1.62336391e-07   9.99999940e-01   9.99999940e-01]]\n",
      "1020 4.83169e-14 [[  1.62336391e-07   9.99999940e-01   9.99999940e-01]]\n",
      "1040 4.83169e-14 [[  1.62336391e-07   9.99999940e-01   9.99999940e-01]]\n",
      "1060 4.83169e-14 [[  1.62336391e-07   9.99999940e-01   9.99999940e-01]]\n",
      "1080 4.83169e-14 [[  1.62336391e-07   9.99999940e-01   9.99999940e-01]]\n",
      "1100 4.83169e-14 [[  1.62336391e-07   9.99999940e-01   9.99999940e-01]]\n",
      "1120 4.83169e-14 [[  1.62336391e-07   9.99999940e-01   9.99999940e-01]]\n",
      "1140 4.83169e-14 [[  1.62336391e-07   9.99999940e-01   9.99999940e-01]]\n",
      "1160 4.83169e-14 [[  1.62336391e-07   9.99999940e-01   9.99999940e-01]]\n",
      "1180 4.83169e-14 [[  1.62336391e-07   9.99999940e-01   9.99999940e-01]]\n",
      "1200 4.83169e-14 [[  1.62336391e-07   9.99999940e-01   9.99999940e-01]]\n",
      "1220 4.83169e-14 [[  1.62336391e-07   9.99999940e-01   9.99999940e-01]]\n",
      "1240 4.83169e-14 [[  1.62336391e-07   9.99999940e-01   9.99999940e-01]]\n",
      "1260 4.83169e-14 [[  1.62336391e-07   9.99999940e-01   9.99999940e-01]]\n",
      "1280 4.83169e-14 [[  1.62336391e-07   9.99999940e-01   9.99999940e-01]]\n",
      "1300 4.83169e-14 [[  1.62336391e-07   9.99999940e-01   9.99999940e-01]]\n",
      "1320 4.83169e-14 [[  1.62336391e-07   9.99999940e-01   9.99999940e-01]]\n",
      "1340 4.83169e-14 [[  1.62336391e-07   9.99999940e-01   9.99999940e-01]]\n",
      "1360 4.83169e-14 [[  1.62336391e-07   9.99999940e-01   9.99999940e-01]]\n",
      "1380 4.83169e-14 [[  1.62336391e-07   9.99999940e-01   9.99999940e-01]]\n",
      "1400 4.83169e-14 [[  1.62336391e-07   9.99999940e-01   9.99999940e-01]]\n",
      "1420 4.83169e-14 [[  1.62336391e-07   9.99999940e-01   9.99999940e-01]]\n",
      "1440 4.83169e-14 [[  1.62336391e-07   9.99999940e-01   9.99999940e-01]]\n",
      "1460 4.83169e-14 [[  1.62336391e-07   9.99999940e-01   9.99999940e-01]]\n",
      "1480 4.83169e-14 [[  1.62336391e-07   9.99999940e-01   9.99999940e-01]]\n",
      "1500 4.83169e-14 [[  1.62336391e-07   9.99999940e-01   9.99999940e-01]]\n",
      "1520 4.83169e-14 [[  1.62336391e-07   9.99999940e-01   9.99999940e-01]]\n",
      "1540 4.83169e-14 [[  1.62336391e-07   9.99999940e-01   9.99999940e-01]]\n",
      "1560 4.83169e-14 [[  1.62336391e-07   9.99999940e-01   9.99999940e-01]]\n",
      "1580 4.83169e-14 [[  1.62336391e-07   9.99999940e-01   9.99999940e-01]]\n",
      "1600 4.83169e-14 [[  1.62336391e-07   9.99999940e-01   9.99999940e-01]]\n",
      "1620 4.83169e-14 [[  1.62336391e-07   9.99999940e-01   9.99999940e-01]]\n",
      "1640 4.83169e-14 [[  1.62336391e-07   9.99999940e-01   9.99999940e-01]]\n",
      "1660 4.83169e-14 [[  1.62336391e-07   9.99999940e-01   9.99999940e-01]]\n",
      "1680 4.83169e-14 [[  1.62336391e-07   9.99999940e-01   9.99999940e-01]]\n",
      "1700 4.83169e-14 [[  1.62336391e-07   9.99999940e-01   9.99999940e-01]]\n",
      "1720 4.83169e-14 [[  1.62336391e-07   9.99999940e-01   9.99999940e-01]]\n",
      "1740 4.83169e-14 [[  1.62336391e-07   9.99999940e-01   9.99999940e-01]]\n",
      "1760 4.83169e-14 [[  1.62336391e-07   9.99999940e-01   9.99999940e-01]]\n",
      "1780 4.83169e-14 [[  1.62336391e-07   9.99999940e-01   9.99999940e-01]]\n",
      "1800 4.83169e-14 [[  1.62336391e-07   9.99999940e-01   9.99999940e-01]]\n",
      "1820 4.83169e-14 [[  1.62336391e-07   9.99999940e-01   9.99999940e-01]]\n",
      "1840 4.83169e-14 [[  1.62336391e-07   9.99999940e-01   9.99999940e-01]]\n",
      "1860 4.83169e-14 [[  1.62336391e-07   9.99999940e-01   9.99999940e-01]]\n",
      "1880 4.83169e-14 [[  1.62336391e-07   9.99999940e-01   9.99999940e-01]]\n",
      "1900 4.83169e-14 [[  1.62336391e-07   9.99999940e-01   9.99999940e-01]]\n",
      "1920 4.83169e-14 [[  1.62336391e-07   9.99999940e-01   9.99999940e-01]]\n",
      "1940 4.83169e-14 [[  1.62336391e-07   9.99999940e-01   9.99999940e-01]]\n",
      "1960 4.83169e-14 [[  1.62336391e-07   9.99999940e-01   9.99999940e-01]]\n",
      "1980 4.83169e-14 [[  1.62336391e-07   9.99999940e-01   9.99999940e-01]]\n",
      "2000 4.83169e-14 [[  1.62336391e-07   9.99999940e-01   9.99999940e-01]]\n"
     ]
    }
   ],
   "source": [
    "# Fit the line.\n",
    "for step in xrange(2001):\n",
    "    sess.run(train)\n",
    "    if step % 20 ==0:\n",
    "        print step, sess.run(cost), sess.run(W)"
   ]
  },
  {
   "cell_type": "code",
   "execution_count": 211,
   "metadata": {
    "collapsed": true
   },
   "outputs": [],
   "source": []
  },
  {
   "cell_type": "code",
   "execution_count": null,
   "metadata": {
    "collapsed": true
   },
   "outputs": [],
   "source": []
  },
  {
   "cell_type": "code",
   "execution_count": null,
   "metadata": {
    "collapsed": true
   },
   "outputs": [],
   "source": []
  },
  {
   "cell_type": "code",
   "execution_count": null,
   "metadata": {
    "collapsed": true
   },
   "outputs": [],
   "source": []
  },
  {
   "cell_type": "code",
   "execution_count": null,
   "metadata": {
    "collapsed": true
   },
   "outputs": [],
   "source": []
  },
  {
   "cell_type": "code",
   "execution_count": null,
   "metadata": {
    "collapsed": true
   },
   "outputs": [],
   "source": []
  },
  {
   "cell_type": "code",
   "execution_count": null,
   "metadata": {
    "collapsed": true
   },
   "outputs": [],
   "source": []
  },
  {
   "cell_type": "code",
   "execution_count": null,
   "metadata": {
    "collapsed": true
   },
   "outputs": [],
   "source": []
  }
 ],
 "metadata": {
  "kernelspec": {
   "display_name": "Python 3",
   "language": "python",
   "name": "python3"
  },
  "language_info": {
   "codemirror_mode": {
    "name": "ipython",
    "version": 3
   },
   "file_extension": ".py",
   "mimetype": "text/x-python",
   "name": "python",
   "nbconvert_exporter": "python",
   "pygments_lexer": "ipython3",
   "version": "3.5.0"
  }
 },
 "nbformat": 4,
 "nbformat_minor": 0
}
